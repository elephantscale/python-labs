{
 "cells": [
  {
   "cell_type": "markdown",
   "metadata": {},
   "source": [
    "# Python Text Labs\n",
    "\n",
    "This will be our data science python labs\n",
    "\n",
    "## Jupyter Notebooks\n",
    "\n",
    "The labs here are jupyter notebooks.  To start them,\n",
    "\n",
    "Type in the following:\n",
    "\n",
    "```bash\n",
    "  jupyter notebook\n",
    "```\n",
    "\n",
    "### Labs\n",
    "\n",
    "1. [Text Analysis With NLTK](./text-nltk/)\n",
    "   * [NLTK Intro](text-nltk/1-nltk-intro.ipynb)\n",
    "   * [Analyzing Text With NLTK](text-nltk/2-analyzing-text-with-nltk.ipynb)\n",
    "   * [NLTK Ngrams](text-nltk/3-ngrams.ipynb)\n",
    "   * [TextBlob](text-nltk/4-textblob.ipynb)\n",
    "   * [TFIDF](text-nltk/5-tf-idf-intro.ipynb)\n",
    "2. [Text Analysis With Scikit-Learn](./text-sklearn)\n",
    "   * [TFIDF Scikit-Learn](text-sklearn/6-tf-idf-with-scikit-learn.ipynb)\n",
    "3. [Text Analysis With Spacy](./text-sklearn)\n",
    "   * [Basic Spacy](text-spacy/Basic_Spacy.ipynb)\n",
    "   * [Spacy Intro](text-spacy/1-spacy-intro.ipynb)\n",
    "   * [Spacy Feature OVerview](text-spacy/spacy-feature-overview.ipynb)\n",
    "   * [Spacy Yelp Dataset](text-spacy/spacy-yelp.ipynb)\n",
    "4. [Text Analysis With Gensim](./text-gensim)\n",
    "   * [Topic Modeling Intro](text-gensim/7-gensim-intro.ipynb)\n",
    "   * [Topic Modeling Newsgroups](text-gensim/8-gensim-newsgroups.ipynb))\n",
    "\n",
    "## Related Courses\n",
    "\n",
    " * [Python Language](./Python-Language.md)\n",
    " * [Python Data Science](./Python-Data-Science.md)\n",
    " * [Python Machine Learning](http://www.github.com/elephantscale/ml-labs-python/README.md)\n",
    "\n",
    "\n"
   ]
  },
  {
   "cell_type": "markdown",
   "metadata": {},
   "source": []
  }
 ],
 "metadata": {
  "kernelspec": {
   "display_name": "Python 3",
   "language": "python",
   "name": "python3"
  },
  "language_info": {
   "codemirror_mode": {
    "name": "ipython",
    "version": 3
   },
   "file_extension": ".py",
   "mimetype": "text/x-python",
   "name": "python",
   "nbconvert_exporter": "python",
   "pygments_lexer": "ipython3",
   "version": "3.8.2"
  }
 },
 "nbformat": 4,
 "nbformat_minor": 4
}
