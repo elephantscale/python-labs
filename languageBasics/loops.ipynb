{
 "cells": [
  {
   "cell_type": "markdown",
   "metadata": {
    "pycharm": {
     "name": "#%% md\n"
    }
   },
   "source": [
    "# Python Loops"
   ]
  },
  {
   "cell_type": "markdown",
   "metadata": {
    "pycharm": {
     "name": "#%% md\n"
    }
   },
   "source": [
    "\n",
    "### Introduction\n",
    "\n",
    "We are going to discuss loops\n",
    "\n",
    "\n",
    "### For Loop:\n",
    "\n",
    "```python\n",
    "for i in range(20):\n",
    "    print(i)\n",
    "```\n",
    "\n",
    "### While Loop\n",
    "```python\n",
    "guess = 20\n",
    "i = 0\n",
    "while i < guess:\n",
    "    print('i is still less')\n",
    "print('Got it! ' + str(i))\n",
    "```"
   ]
  },
  {
   "cell_type": "code",
   "execution_count": null,
   "metadata": {
    "collapsed": true,
    "pycharm": {
     "name": "#%%\n",
     "is_executing": true
    }
   },
   "outputs": [],
   "source": [
    "#TODO: Write a for a loop that counts up from zero to 19\n",
    "for i in range(20):\n",
    "    print(i)"
   ]
  },
  {
   "cell_type": "markdown",
   "metadata": {
    "pycharm": {
     "name": "#%% md\n"
    }
   },
   "source": [
    "Now let's determine whether the number is odd or even. \n",
    "\n",
    "Here's how we can determine if a number is odd or even.\n",
    "\n",
    "```python\n",
    "number % 2 == 0 # even\n",
    "number % 2 == 1 # odd\n",
    "```"
   ]
  },
  {
   "cell_type": "code",
   "execution_count": null,
   "metadata": {
    "collapsed": true,
    "pycharm": {
     "name": "#%%\n",
     "is_executing": true
    }
   },
   "outputs": [],
   "source": [
    "#TODO: Do the same loop, but print the number, and the word \"even\"  or \"odd\"\n",
    "for number in range(20):\n",
    "    if number % 2 == 0:\n",
    "        print(str(number) + \" is even\")\n",
    "    else:\n",
    "        print(str(number) + \" is odd\")"
   ]
  },
  {
   "cell_type": "markdown",
   "metadata": {
    "pycharm": {
     "name": "#%% md\n"
    }
   },
   "source": [
    "### While loops\n",
    "\n",
    "Here is how we will get user input.\n",
    "\n",
    "```python\n",
    "number = input(\"Guess a number\")\n",
    "```"
   ]
  },
  {
   "cell_type": "code",
   "execution_count": null,
   "metadata": {
    "collapsed": true,
    "pycharm": {
     "name": "#%%\n",
     "is_executing": true
    }
   },
   "outputs": [],
   "source": [
    "#TODO: Generate a random number, ask for an input from the user, if random number and user's input are different, do it again\n",
    "#TODO: while loops are tricky, always have an exit condition.\n",
    "#Note: input function will return a string object, make sure to convert it to int\n",
    "import random\n",
    "\n",
    "n = 20\n",
    "magic_number = int(n * random.random()) + 1\n",
    "user_guess = 0\n",
    "\n",
    "print(\"Random number is:\" + str(magic_number))\n",
    "\n",
    "while magic_number != user_guess:\n",
    "    user_guess = int(input(\"Guess a number\"))\n",
    "    if user_guess == -1:\n",
    "        break\n",
    "else:\n",
    "    print(\"DONE\")"
   ]
  }
 ],
 "metadata": {
  "kernelspec": {
   "display_name": "Python 3",
   "language": "python",
   "name": "python3"
  },
  "language_info": {
   "codemirror_mode": {
    "name": "ipython",
    "version": 3
   },
   "file_extension": ".py",
   "mimetype": "text/x-python",
   "name": "python",
   "nbconvert_exporter": "python",
   "pygments_lexer": "ipython3",
   "version": "3.5.4"
  }
 },
 "nbformat": 4,
 "nbformat_minor": 1
}