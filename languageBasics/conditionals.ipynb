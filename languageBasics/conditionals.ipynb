{
 "cells": [
  {
   "cell_type": "markdown",
   "metadata": {
    "pycharm": {
     "name": "#%% md\n"
    }
   },
   "source": [
    "# Lab 3.2: Python Conditionals"
   ]
  },
  {
   "cell_type": "markdown",
   "metadata": {
    "pycharm": {
     "name": "#%% md\n"
    }
   },
   "source": [
    "\n",
    "### Introduction\n",
    "\n",
    "Python is unlike other languages in that it has blocks delimited by indentation / whitespace rather than curly braces.  \n"
   ]
  },
  {
   "cell_type": "code",
   "execution_count": null,
   "outputs": [],
   "source": [
    "a = 2\n",
    "if a < 1:\n",
    "    print(\"less than one\")\n",
    "elif a >= 1 and a < 2:\n",
    "    print(\"between one and two\")\n",
    "else:\n",
    "    print(\"greater than 2\")"
   ],
   "metadata": {
    "collapsed": false,
    "pycharm": {
     "name": "#%%\n",
     "is_executing": true
    }
   }
  },
  {
   "cell_type": "markdown",
   "source": [
    "You can simplify complicated if conditions\n",
    "for e.g. `a >= 1 and a < 2` can be converted to `1 <= a < 2`"
   ],
   "metadata": {
    "collapsed": false,
    "pycharm": {
     "name": "#%% md\n"
    }
   }
  },
  {
   "cell_type": "code",
   "execution_count": null,
   "outputs": [],
   "source": [
    "a = 1\n",
    "if a < 1:\n",
    "    print(\"less than one\")\n",
    "elif 1 <= a < 2:\n",
    "    print(\"between one and two\")\n",
    "else:\n",
    "    print(\"greater than 2\")"
   ],
   "metadata": {
    "collapsed": false,
    "pycharm": {
     "name": "#%%\n",
     "is_executing": true
    }
   }
  },
  {
   "cell_type": "code",
   "execution_count": 1,
   "metadata": {
    "collapsed": true,
    "pycharm": {
     "name": "#%%\n"
    }
   },
   "outputs": [],
   "source": [
    "# Let's define some values.\n",
    "\n",
    "x = 2\n",
    "y = 3\n",
    "z = 4"
   ]
  },
  {
   "cell_type": "markdown",
   "metadata": {
    "pycharm": {
     "name": "#%% md\n"
    }
   },
   "source": [
    "How would you write a block of code that does the following:\n",
    "\n",
    "1. Prints \"x\" if x is the largest value\n",
    "2. Prints \"y\" if y is the largest value\n",
    "3. prints \"z\" if z is the largest value"
   ]
  },
  {
   "cell_type": "code",
   "execution_count": null,
   "metadata": {
    "collapsed": true,
    "pycharm": {
     "name": "#%%\n"
    }
   },
   "outputs": [],
   "source": [
    "# TODO Find maximum value / Student's bonus task"
   ]
  },
  {
   "cell_type": "markdown",
   "metadata": {
    "pycharm": {
     "name": "#%% md\n"
    }
   },
   "source": [
    "### One liners\n",
    "\n",
    "Python doesn't have Java's ternary conditional operator\n",
    "\n",
    "```java\n",
    "max = (a > b) ? a : b; // This is java\n",
    "```\n",
    "\n",
    "What it does have a bit more readable.\n",
    "\n",
    "```python\n",
    "max = a if (a > b) else b # Python\n",
    "```"
   ]
  },
  {
   "cell_type": "code",
   "execution_count": null,
   "outputs": [],
   "source": [
    "a = 10\n",
    "b = 15\n",
    "max = a if (a > b) else b\n",
    "max"
   ],
   "metadata": {
    "collapsed": false,
    "pycharm": {
     "name": "#%%\n",
     "is_executing": true
    }
   }
  },
  {
   "cell_type": "code",
   "execution_count": null,
   "metadata": {
    "collapsed": true,
    "pycharm": {
     "name": "#%%\n",
     "is_executing": true
    }
   },
   "outputs": [],
   "source": [
    "correct_password = \"spam\"\n",
    "password = \"ham\"\n",
    "\n",
    "#How would we print “Correct” if password is correct and incorrect otherwise?\n",
    "\n",
    "if correct_password == password :\n",
    "    print (\"Correct\")\n",
    "else:\n",
    "    print (\"Incorrect\")"
   ]
  }
 ],
 "metadata": {
  "kernelspec": {
   "display_name": "Python 3",
   "language": "python",
   "name": "python3"
  },
  "language_info": {
   "codemirror_mode": {
    "name": "ipython",
    "version": 3
   },
   "file_extension": ".py",
   "mimetype": "text/x-python",
   "name": "python",
   "nbconvert_exporter": "python",
   "pygments_lexer": "ipython3",
   "version": "3.5.4"
  }
 },
 "nbformat": 4,
 "nbformat_minor": 1
}