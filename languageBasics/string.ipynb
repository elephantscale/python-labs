{
 "cells": [
  {
   "cell_type": "markdown",
   "source": [
    "# Working with String"
   ],
   "metadata": {
    "collapsed": false,
    "pycharm": {
     "name": "#%% md\n"
    }
   }
  },
  {
   "cell_type": "code",
   "execution_count": 3,
   "outputs": [],
   "source": [
    "#TODO: Let's perform some basic operations on the following string\n",
    "text = \"I-AM-SAM,-I-AM-SAM,SAM-I-AM!.THAT-SAM-I-AM!-THAT-SAM-I-AM!-I-DO-NOT-LIKE-THAT-SAM-I-AM. WOULD-YOU-LIKE-GREEN-EGGS-AND-HAM?\""
   ],
   "metadata": {
    "collapsed": false,
    "pycharm": {
     "name": "#%%\n"
    }
   }
  },
  {
   "cell_type": "code",
   "execution_count": null,
   "outputs": [],
   "source": [
    "# TODO: Split string on spaces\n",
    "clean_1 = text.split(\" \")\n",
    "clean_1"
   ],
   "metadata": {
    "collapsed": false,
    "pycharm": {
     "name": "#%%\n",
     "is_executing": true
    }
   }
  },
  {
   "cell_type": "code",
   "execution_count": null,
   "outputs": [],
   "source": [
    "# TODO split string by non-alphabetic\n",
    "# We need to use regex\n",
    "\n",
    "import re\n",
    "clean_2 = re.split('[^a-zA-Z]', text) # [^a-zA-Z] means a list of characters form a to z and A to Z\n",
    "clean_2"
   ],
   "metadata": {
    "collapsed": false,
    "pycharm": {
     "name": "#%%\n",
     "is_executing": true
    }
   }
  },
  {
   "cell_type": "markdown",
   "source": [
    "Let's use a text and try to extract phone numbers from it."
   ],
   "metadata": {
    "collapsed": false,
    "pycharm": {
     "name": "#%% md\n"
    }
   }
  },
  {
   "cell_type": "code",
   "execution_count": 50,
   "outputs": [],
   "source": [
    "text=\"\"\"\n",
    "We are located at 123 Main St.\n",
    "you can reach customer services at 800-123-4567.\n",
    "Our security is available 24x7 at  333-444-5555.\n",
    "our secondary phone number is: 666-888-4232\n",
    "\"\"\"\n",
    "#We are using three \" because we have multiple lines."
   ],
   "metadata": {
    "collapsed": false,
    "pycharm": {
     "name": "#%%\n"
    }
   }
  },
  {
   "cell_type": "markdown",
   "source": [
    "We need a regex to find phone numbers from a text\n",
    "\n",
    "First, we need to match an area code (3 digits), a trunk (3 digits), and an extension (4 digits):\n",
    "`reg = re.compile(\"\\d{3}\\d{3}\\d{4}\")`\n",
    "\n",
    "Now, we want to capture the matched phone number, so we add a parenthesis around the parts that we're interested in capturing (all of it):\n",
    "`reg = re.compile(\"(\\d{3}\\d{3}\\d{4})\")`\n",
    "\n",
    "The area code, trunk and extension might be separated by up to 3 characters that are not digits (such as the case when spaces are used along with the hyphen/dot delimiter):\n",
    "`reg = re.compile(\"(\\d{3}\\D{0,3}\\d{3}\\D{0,3}\\d{4})\")`\n"
   ],
   "metadata": {
    "collapsed": false,
    "pycharm": {
     "name": "#%% md\n"
    }
   }
  },
  {
   "cell_type": "code",
   "execution_count": 53,
   "outputs": [
    {
     "data": {
      "text/plain": "['800-123-4567', '333-444-5555', '666-888-4232']"
     },
     "execution_count": 53,
     "metadata": {},
     "output_type": "execute_result"
    }
   ],
   "source": [
    "#TODO: Write a phone number regex for your area.\n",
    "reg = re.compile(\"(\\d{3}\\D{0,3}\\d{3}\\D{0,3}\\d{4})\")\n",
    "\n",
    "phone_regex  = reg.findall(text)\n",
    "phone_regex"
   ],
   "metadata": {
    "collapsed": false,
    "pycharm": {
     "name": "#%%\n"
    }
   }
  }
 ],
 "metadata": {
  "kernelspec": {
   "display_name": "Python 3",
   "language": "python",
   "name": "python3"
  },
  "language_info": {
   "codemirror_mode": {
    "name": "ipython",
    "version": 2
   },
   "file_extension": ".py",
   "mimetype": "text/x-python",
   "name": "python",
   "nbconvert_exporter": "python",
   "pygments_lexer": "ipython2",
   "version": "2.7.6"
  }
 },
 "nbformat": 4,
 "nbformat_minor": 0
}