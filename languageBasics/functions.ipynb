{
 "cells": [
  {
   "cell_type": "markdown",
   "metadata": {
    "pycharm": {
     "name": "#%% md\n"
    }
   },
   "source": [
    "# Functions\n",
    "\n",
    "Python allows us to create functions. We are going to see how to do that."
   ]
  },
  {
   "cell_type": "code",
   "execution_count": null,
   "metadata": {
    "collapsed": true,
    "jupyter": {
     "outputs_hidden": true
    },
    "pycharm": {
     "name": "#%%\n",
     "is_executing": true
    }
   },
   "outputs": [],
   "source": [
    "# simple function with one input\n",
    "def printme(whattoprint):\n",
    "    print(whattoprint)\n",
    "    return\n",
    "\n",
    "printme(\"hello\")  #Should print \"hello\"\n",
    "\n",
    "\n"
   ]
  },
  {
   "cell_type": "code",
   "execution_count": null,
   "outputs": [],
   "source": [
    "# simple function with two inputs\n",
    "def mymax(first, second):\n",
    "    if first > second:\n",
    "        return first\n",
    "    return second\n",
    "printme(mymax(1, 2))  #Should print \"2\""
   ],
   "metadata": {
    "collapsed": false,
    "pycharm": {
     "name": "#%%\n",
     "is_executing": true
    }
   }
  },
  {
   "cell_type": "markdown",
   "metadata": {
    "pycharm": {
     "name": "#%% md\n"
    }
   },
   "source": [
    "### Lambda Functions\n",
    "\n",
    "Lambda functions are anonymous functions, short one-liners that we pass as arguments without."
   ]
  },
  {
   "cell_type": "code",
   "execution_count": 6,
   "metadata": {
    "collapsed": true,
    "jupyter": {
     "outputs_hidden": true
    },
    "pycharm": {
     "name": "#%%\n"
    }
   },
   "outputs": [
    {
     "data": {
      "text/plain": "[(2, 'Bob'), (4, 'Lu'), (1, 'Mary'), (3, 'Zahra')]"
     },
     "execution_count": 6,
     "metadata": {},
     "output_type": "execute_result"
    }
   ],
   "source": [
    "names = [(1, 'Mary'), (2, 'Bob'), (3, 'Zahra'), (4, 'Lu')]\n",
    "names.sort(key=lambda name: name[1])\n",
    "names"
   ]
  },
  {
   "cell_type": "code",
   "execution_count": null,
   "metadata": {
    "collapsed": true,
    "jupyter": {
     "outputs_hidden": true
    },
    "pycharm": {
     "name": "#%%\n"
    }
   },
   "outputs": [],
   "source": [
    "# Now it is your turn. Try to experiment by creating a function yourself,\n",
    "# and then calling it.\n",
    "\n",
    "# Here is something to convert fahrenheit to celsius (To convert temperatures in degrees Fahrenheit to Celsius, subtract 32 and multiply by 5/9)\n",
    "def convert_F_to_C(f):\n",
    "    return 0\n",
    "\n"
   ]
  },
  {
   "cell_type": "code",
   "execution_count": null,
   "outputs": [],
   "source": [
    "# sympy is a function that would test if a number is prime or not\n",
    "import sympy\n",
    "\n",
    "number_to_test_is_prime = 5\n",
    "\n",
    "sympy.isprime(number_to_test_is_prime)"
   ],
   "metadata": {
    "collapsed": false,
    "pycharm": {
     "name": "#%%\n",
     "is_executing": true
    }
   }
  },
  {
   "cell_type": "markdown",
   "source": [
    "The previous command will fail, why? By default `sympy` is not installed,\n",
    "We will use `pip` to install the package on our jupyter."
   ],
   "metadata": {
    "collapsed": false,
    "pycharm": {
     "name": "#%% md\n"
    }
   }
  },
  {
   "cell_type": "code",
   "execution_count": null,
   "outputs": [],
   "source": [
    "pip install sympy"
   ],
   "metadata": {
    "collapsed": false,
    "pycharm": {
     "name": "#%%\n"
    }
   }
  },
  {
   "cell_type": "markdown",
   "source": [
    "This step might take a few minutes, at the end you should see something like this:\n",
    "\n",
    "```python\n",
    "Successfully installed sympy-1.10.1\n",
    "Note: you may need to restart the kernel to use updated packages.\n",
    "```\n",
    "\n",
    "To fully install the package, we need to restart the jupyter kernel.\n",
    "From the top menu, open `Kernel` and then click on `Restart Kernel...`\n",
    "\n",
    "This could take a minute.\n",
    "\n",
    "try the command again:"
   ],
   "metadata": {
    "collapsed": false,
    "pycharm": {
     "name": "#%% md\n"
    }
   }
  },
  {
   "cell_type": "code",
   "execution_count": null,
   "outputs": [],
   "source": [
    "import sympy\n",
    "\n",
    "number_to_test_is_prime = 5\n",
    "\n",
    "sympy.isprime(number_to_test_is_prime) # return true"
   ],
   "metadata": {
    "collapsed": false,
    "pycharm": {
     "name": "#%%\n"
    }
   }
  },
  {
   "cell_type": "code",
   "execution_count": null,
   "outputs": [],
   "source": [
    "# Student task\n",
    "# Now let's define a function\n",
    "# TODO: How to do this?\n",
    "# It is not cheating to use sympy.isprime()\n",
    "# HINT: you could use a while loop?\n",
    "\n",
    "def my_next_prime(n):\n",
    "    return n + 1"
   ],
   "metadata": {
    "collapsed": false,
    "pycharm": {
     "name": "#%%\n"
    }
   }
  },
  {
   "cell_type": "code",
   "execution_count": null,
   "outputs": [],
   "source": [
    "# TODO: Now test your my_next_prime function\n",
    "\n",
    "# make sure you get the same result as this one:\n",
    "sympy.ntheory.generate.nextprime(5)"
   ],
   "metadata": {
    "collapsed": false,
    "pycharm": {
     "name": "#%%\n",
     "is_executing": true
    }
   }
  },
  {
   "cell_type": "markdown",
   "metadata": {
    "pycharm": {
     "name": "#%% md\n"
    }
   },
   "source": [
    "## Map Functions\n",
    "\n",
    "Let's try to use our my_next_prime \n",
    "\n",
    "We will use the map function"
   ]
  },
  {
   "cell_type": "code",
   "execution_count": 14,
   "metadata": {
    "pycharm": {
     "name": "#%%\n"
    }
   },
   "outputs": [
    {
     "data": {
      "text/plain": "[1, 4, 9]"
     },
     "execution_count": 14,
     "metadata": {},
     "output_type": "execute_result"
    }
   ],
   "source": [
    "a = [1, 2, 3]\n",
    "b = list(map(lambda x: x * x, a))\n",
    "b"
   ]
  },
  {
   "cell_type": "code",
   "execution_count": null,
   "metadata": {
    "pycharm": {
     "name": "#%%\n"
    }
   },
   "outputs": [],
   "source": [
    "# TODO: How would we find the next prime number for each of the followings\n",
    "\n",
    "nums = [3, 10, 13, 16, 19, 23, 34]"
   ]
  },
  {
   "cell_type": "code",
   "execution_count": null,
   "metadata": {
    "collapsed": true,
    "jupyter": {
     "outputs_hidden": true
    },
    "pycharm": {
     "name": "#%%\n"
    }
   },
   "outputs": [],
   "source": []
  }
 ],
 "metadata": {
  "kernelspec": {
   "display_name": "Python 3",
   "language": "python",
   "name": "python3"
  },
  "language_info": {
   "codemirror_mode": {
    "name": "ipython",
    "version": 3
   },
   "file_extension": ".py",
   "mimetype": "text/x-python",
   "name": "python",
   "nbconvert_exporter": "python",
   "pygments_lexer": "ipython3",
   "version": "3.8.2"
  }
 },
 "nbformat": 4,
 "nbformat_minor": 4
}