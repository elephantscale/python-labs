{
 "cells": [
  {
   "cell_type": "markdown",
   "metadata": {
    "pycharm": {
     "name": "#%% md\n"
    }
   },
   "source": [
    "# Learning Python"
   ]
  },
  {
   "cell_type": "markdown",
   "metadata": {
    "pycharm": {
     "name": "#%% md\n"
    }
   },
   "source": [
    "\n",
    "### Introduction\n",
    "\n",
    "Welcome to Learning Python.  Here, we will learn the basics of python in a convenient notebook format.\n",
    "\n",
    "Remember, to RUN a cell, click in teh cell and either press the \"play\" button on top or control-enter."
   ]
  },
  {
   "cell_type": "markdown",
   "metadata": {
    "pycharm": {
     "name": "#%% md\n"
    }
   },
   "source": [
    "### Python Types\n",
    "\n",
    "Python, like most languages, has types. As a dynamic language, Python has \"duck typing”, which means that variable types can be inferred by their usage and don't have to be declared.\n",
    "\n",
    "<img src=\"https://raw.githubusercontent.com/elephantscale/python-labs/master/assets/images/duck-typing.jpg?token=GHSAT0AAAAAABP7D5UDBJN4KXXKWBFPHI3AYXL4AHQ\" />"
   ]
  },
  {
   "cell_type": "code",
   "execution_count": null,
   "metadata": {
    "pycharm": {
     "name": "#%%\n",
     "is_executing": true
    }
   },
   "outputs": [],
   "source": [
    "val1 = 1  # Integer\n",
    "val2 = 1.2 # float\n",
    "val3 = 1 + 3j #complex number\n",
    "\n",
    "#let's print out the types\n",
    "print(type(val1))  #should be integer\n",
    "print(type(val2))  #should be float\n",
    "print(type(val3)) #should be complex\n",
    "\n",
    "#Run this block to see if we are right."
   ]
  },
  {
   "cell_type": "markdown",
   "metadata": {
    "pycharm": {
     "name": "#%% md\n"
    }
   },
   "source": [
    "### Strings\n",
    "\n",
    "We all know what strings are.  We can store strings with single or double quotes. There is no difference."
   ]
  },
  {
   "cell_type": "code",
   "execution_count": null,
   "metadata": {
    "pycharm": {
     "name": "#%%\n",
     "is_executing": true
    }
   },
   "outputs": [],
   "source": [
    "a = 'hello world!'\n",
    "a\n",
    "a[2:3]"
   ]
  },
  {
   "cell_type": "code",
   "execution_count": null,
   "metadata": {
    "collapsed": true,
    "jupyter": {
     "outputs_hidden": true
    },
    "pycharm": {
     "name": "#%%\n"
    }
   },
   "outputs": [],
   "source": [
    "#Now you try! Make some strings and watch what the results are."
   ]
  },
  {
   "cell_type": "markdown",
   "metadata": {
    "pycharm": {
     "name": "#%% md\n"
    }
   },
   "source": [
    "### Lists\n",
    "\n",
    "Lists are surrounded by square brackets.  They are an ordered sequence."
   ]
  },
  {
   "cell_type": "code",
   "execution_count": null,
   "metadata": {
    "pycharm": {
     "name": "#%%\n"
    }
   },
   "outputs": [],
   "source": [
    "mylist = ['abc', 1, 2.5]\n",
    "mylist[0]\n",
    "mylist[1:]"
   ]
  },
  {
   "cell_type": "code",
   "execution_count": null,
   "metadata": {
    "collapsed": true,
    "jupyter": {
     "outputs_hidden": true
    },
    "pycharm": {
     "name": "#%%\n"
    }
   },
   "outputs": [],
   "source": [
    "#Now you try! Make some lists and watch what the results are."
   ]
  },
  {
   "cell_type": "markdown",
   "metadata": {
    "pycharm": {
     "name": "#%% md\n"
    }
   },
   "source": [
    "Lists are able to function like arrays in other languages, except that they allow you to do things like inserts and deletions.\n",
    "\n",
    "We are going to learn later about arrays and matrices in the numpy package which will be very fast for heavy number crunching."
   ]
  },
  {
   "cell_type": "markdown",
   "metadata": {
    "pycharm": {
     "name": "#%% md\n"
    }
   },
   "source": [
    "### Tuples\n",
    "\n",
    "Tuples are a bit like lists, but they are immutable, which means the \n",
    "values, ordering, and other things can't be changed.  The name tuple\n",
    "comes from quadruple, quntule, etc."
   ]
  },
  {
   "cell_type": "code",
   "execution_count": null,
   "metadata": {
    "pycharm": {
     "name": "#%%\n"
    }
   },
   "outputs": [],
   "source": [
    "mytuple = (1, 'hi', 2.5)\n",
    "mytuple[1] = 'bye'  # ERROR!  Can't change tuple value\n",
    "mytuple[1]"
   ]
  },
  {
   "cell_type": "markdown",
   "metadata": {
    "pycharm": {
     "name": "#%% md\n"
    }
   },
   "source": [
    "### Dictionaries\n",
    "These are key-value pairs, similar to maps, hashes, or associative arrays in other languages.\n"
   ]
  },
  {
   "cell_type": "code",
   "execution_count": null,
   "metadata": {
    "pycharm": {
     "name": "#%%\n"
    }
   },
   "outputs": [],
   "source": [
    "d = {} #This is an empty dictionary\n",
    "d['one'] = 1  #assignment\n",
    "d_new = {'name':'Tim', 'address':'123 Main Street', 'city':'Seattle'}\n",
    "[d_new.keys(), d_new.values()]"
   ]
  },
  {
   "cell_type": "code",
   "execution_count": null,
   "metadata": {
    "collapsed": true,
    "jupyter": {
     "outputs_hidden": true
    },
    "pycharm": {
     "name": "#%%\n"
    }
   },
   "outputs": [],
   "source": [
    "#Now it is your turn. Try creating some dictionaries, lists, and tuples."
   ]
  }
 ],
 "metadata": {
  "kernelspec": {
   "display_name": "Python 3",
   "language": "python",
   "name": "python3"
  },
  "language_info": {
   "codemirror_mode": {
    "name": "ipython",
    "version": 3
   },
   "file_extension": ".py",
   "mimetype": "text/x-python",
   "name": "python",
   "nbconvert_exporter": "python",
   "pygments_lexer": "ipython3",
   "version": "3.8.3"
  }
 },
 "nbformat": 4,
 "nbformat_minor": 4
}