{
  "nbformat": 4,
  "nbformat_minor": 0,
  "metadata": {
    "colab": {
      "name": "Spacy_Exercise4.ipynb",
      "provenance": []
    },
    "kernelspec": {
      "name": "python3",
      "display_name": "Python 3"
    }
  },
  "cells": [
    {
      "cell_type": "code",
      "metadata": {
        "id": "g4OHSN13SIFY",
        "colab_type": "code",
        "colab": {}
      },
      "source": [
        "import spacy\n",
        "\n",
        "# Load the en_core_web_sm model\n",
        "nlp = ____\n",
        "\n",
        "# Print the names of the pipeline components\n",
        "print(____.____)\n",
        "\n",
        "# Print the full pipeline of (name, component) tuples\n",
        "print(____.____)"
      ],
      "execution_count": 0,
      "outputs": []
    },
    {
      "cell_type": "code",
      "metadata": {
        "id": "1ADG5ZR-Sa00",
        "colab_type": "code",
        "colab": {}
      },
      "source": [
        "\n",
        "# Define the custom component\n",
        "def length_component(doc):\n",
        "    # Get the doc's length\n",
        "    doc_length = ____\n",
        "    print(\"This document is {} tokens long.\".format(doc_length))\n",
        "    # Return the doc\n",
        "    ____\n",
        "\n",
        "\n",
        "# Load the small English model\n",
        "nlp = spacy.load(\"en_core_web_sm\")\n",
        "\n",
        "# Add the component first in the pipeline and print the pipe names\n",
        "____.____(____)\n",
        "print(nlp.pipe_names)\n",
        "\n",
        "# Process a text\n",
        "doc = ____"
      ],
      "execution_count": 0,
      "outputs": []
    },
    {
      "cell_type": "code",
      "metadata": {
        "id": "OTdUi3BGS-_H",
        "colab_type": "code",
        "colab": {}
      },
      "source": [
        "import spacy\n",
        "from spacy.matcher import PhraseMatcher\n",
        "from spacy.tokens import Span\n",
        "\n",
        "nlp = spacy.load(\"en_core_web_sm\")\n",
        "animals = [\"Golden Retriever\", \"cat\", \"turtle\", \"Rattus norvegicus\"]\n",
        "animal_patterns = list(nlp.pipe(animals))\n",
        "print(\"animal_patterns:\", animal_patterns)\n",
        "matcher = PhraseMatcher(nlp.vocab)\n",
        "matcher.add(\"ANIMAL\", None, *animal_patterns)\n",
        "\n",
        "# Define the custom component\n",
        "def animal_component(doc):\n",
        "    # Apply the matcher to the doc\n",
        "    matches = ____\n",
        "    # Create a Span for each match and assign the label 'ANIMAL'\n",
        "    spans = [Span(____, ____, ___, label=____) for match_id, start, end in matches]\n",
        "    # Overwrite the doc.ents with the matched spans\n",
        "    doc.ents = spans\n",
        "    return doc\n",
        "\n",
        "\n",
        "# Add the component to the pipeline after the 'ner' component\n",
        "____.____(____, ____=____)\n",
        "print(nlp.pipe_names)\n",
        "\n",
        "# Process the text and print the text and label for the doc.ents\n",
        "doc = nlp(\"I have a cat and a Golden Retriever\")\n",
        "print([(____, ____) for ent in ____])"
      ],
      "execution_count": 0,
      "outputs": []
    },
    {
      "cell_type": "code",
      "metadata": {
        "id": "X2bJ9oKETbjO",
        "colab_type": "code",
        "colab": {}
      },
      "source": [
        "from spacy.lang.en import English\n",
        "from spacy.tokens import Token\n",
        "\n",
        "nlp = English()\n",
        "\n",
        "# Register the Token extension attribute 'is_country' with the default value False\n",
        "____.____(____, ____=____)\n",
        "\n",
        "# Process the text and set the is_country attribute to True for the token \"Spain\"\n",
        "doc = nlp(\"I live in Spain.\")\n",
        "____ = True\n",
        "\n",
        "# Print the token text and the is_country attribute for all tokens\n",
        "print([(____, ____) for token in doc])\n",
        "\n",
        "\n"
      ],
      "execution_count": 0,
      "outputs": []
    },
    {
      "cell_type": "code",
      "metadata": {
        "id": "FxxPBRrZTdhp",
        "colab_type": "code",
        "colab": {}
      },
      "source": [
        "from spacy.lang.en import English\n",
        "from spacy.tokens import Token\n",
        "\n",
        "nlp = English()\n",
        "\n",
        "# Define the getter function that takes a token and returns its reversed text\n",
        "def get_reversed(token):\n",
        "    return token.text[::-1]\n",
        "\n",
        "\n",
        "# Register the Token property extension 'reversed' with the getter get_reversed\n",
        "____.____(____, ____=____)\n",
        "\n",
        "# Process the text and print the reversed attribute for each token\n",
        "doc = nlp(\"All generalizations are false, including this one.\")\n",
        "for ____ in ____:\n",
        "    print(\"reversed:\", ____)"
      ],
      "execution_count": 0,
      "outputs": []
    }
  ]
}