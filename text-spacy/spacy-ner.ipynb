{
  "nbformat": 4,
  "nbformat_minor": 0,
  "metadata": {
    "colab": {
      "name": "Spacy-Example2.ipynb",
      "provenance": [],
      "collapsed_sections": []
    },
    "kernelspec": {
      "name": "python3",
      "display_name": "Python 3"
    }
  },
  "cells": [
    {
      "cell_type": "code",
      "metadata": {
        "id": "yNkKT3SlFe5W",
        "colab_type": "code",
        "colab": {}
      },
      "source": [
        "import spacy\n",
        "\n",
        "nlp = spacy.load(\"en_core_web_sm\")\n",
        "\n",
        "text = \"It’s official: Apple is the first U.S. public company to reach a $1 trillion market value\"\n",
        "\n",
        "# Process the text\n",
        "doc = ____\n",
        "\n",
        "# Iterate over the predicted entities\n",
        "for ent in ____.____:\n",
        "    # Print the entity text and its label\n",
        "    print(ent.____, ____.____)\n",
        "\n"
      ],
      "execution_count": 0,
      "outputs": []
    },
    {
      "cell_type": "code",
      "metadata": {
        "id": "JD6y0P2KLkES",
        "colab_type": "code",
        "colab": {}
      },
      "source": [
        "matches])\n",
        "\n",
        "\n",
        "\n",
        "\n",
        "import spacy\n",
        "from spacy.matcher import Matcher\n",
        "\n",
        "nlp = spacy.load(\"en_core_web_sm\")\n",
        "matcher = Matcher(nlp.vocab)\n",
        "    \n",
        "doc = nlp(\n",
        "    \"After making the iOS update you won't notice a radical system-wide \"\n",
        "    \"redesign: nothing like the aesthetic upheaval we got with iOS 7. Most of \"\n",
        "    \"iOS 11's furniture remains the same as in iOS 10. But you will discover \"\n",
        "    \"some tweaks once you delve a little deeper.\"\n",
        ")\n",
        "\n",
        "# Write a pattern for full iOS versions (\"iOS 7\", \"iOS 11\", \"iOS 10\")\n",
        "pattern = [{\"TEXT\": ____}, {\"IS_DIGIT\": ____}]\n",
        "\n",
        "# Add the pattern to the matcher and apply the matcher to the doc\n",
        "matcher.add(\"IOS_VERSION_PATTERN\", None, pattern)\n",
        "matches = matcher(doc)\n",
        "print(\"Total matches found:\", len(matches))\n",
        "\n",
        "# Iterate over the matches and print the span text\n",
        "for match_id, start, end in matches:\n",
        "    print(\"Match found:\", doc[start:end].text)\n",
        "\n"
      ],
      "execution_count": 0,
      "outputs": []
    },
    {
      "cell_type": "code",
      "metadata": {
        "id": "2gAL2bsGMJzS",
        "colab_type": "code",
        "colab": {}
      },
      "source": [
        "jj"
      ],
      "execution_count": 0,
      "outputs": []
    },
    {
      "cell_type": "markdown",
      "metadata": {
        "id": "oQN10qPaM2SB",
        "colab_type": "text"
      },
      "source": [
        ""
      ]
    },
    {
      "cell_type": "code",
      "metadata": {
        "id": "NFlmHrk_Fnl8",
        "colab_type": "code",
        "colab": {}
      },
      "source": [
        "text = \"New iPhone X release date leaked as Apple reveals pre-orders by mistake\"\n",
        "\n",
        "# Process the text\n",
        "doc = ____\n",
        "\n",
        "# Iterate over the entities\n",
        "for ____ in ____.____:\n",
        "    # Print the entity text and label\n",
        "    print(____.____, ____.____)\n",
        "\n",
        "# Get the span for \"iPhone X\"\n",
        "iphone_x = ____\n",
        "\n",
        "# Print the span text\n",
        "print(\"Missing entity:\", iphone_x.text)\n"
      ],
      "execution_count": 0,
      "outputs": []
    },
    {
      "cell_type": "code",
      "metadata": {
        "id": "lGc5pObwFrw5",
        "colab_type": "code",
        "colab": {}
      },
      "source": [
        "import spacy\n",
        "\n",
        "# Import the Matcher\n",
        "from spacy.____ import ____\n",
        "\n",
        "nlp = spacy.load(\"en_core_web_sm\")\n",
        "doc = nlp(\"New iPhone X release date leaked as Apple reveals pre-orders by mistake\")\n",
        "\n",
        "# Initialize the Matcher with the shared vocabulary\n",
        "matcher = ____(____.____)\n",
        "\n",
        "# Create a pattern matching two tokens: \"iPhone\" and \"X\"\n",
        "pattern = [____]\n",
        "\n",
        "# Add the pattern to the matcher\n",
        "____.____(\"IPHONE_X_PATTERN\", None, ____)\n",
        "\n",
        "# Use the matcher on the doc\n",
        "matches = ____\n",
        "print(\"Matches:\", [doc[start:end].text for match_id, start, end in matches])"
      ],
      "execution_count": 0,
      "outputs": []
    },
    {
      "cell_type": "code",
      "metadata": {
        "id": "6nuHPaQFK1yJ",
        "colab_type": "code",
        "colab": {}
      },
      "source": [
        "\n",
        "\n",
        "## Adding Patterns\n",
        "\n",
        "import spacy\n",
        "from spacy.matcher import Matcher\n",
        "\n",
        "nlp = spacy.load(\"en_core_web_sm\")\n",
        "matcher = Matcher(nlp.vocab)\n",
        "\n",
        "doc = nlp(\n",
        "    \"i downloaded Fortnite on my laptop and can't open the game at all. Help? \"\n",
        "    \"so when I was downloading Minecraft, I got the Windows version where it \"\n",
        "    \"is the '.zip' folder and I used the default program to unpack it... do \"\n",
        "    \"I also need to download Winzip?\"\n",
        ")\n",
        "\n",
        "# Write a pattern that matches a form of \"download\" plus proper noun\n",
        "pattern = [{\"LEMMA\": ____}, {\"POS\": ____}]\n",
        "\n",
        "# Add the pattern to the matcher and apply the matcher to the doc\n",
        "matcher.add(\"DOWNLOAD_THINGS_PATTERN\", None, pattern)\n",
        "matches = matcher(doc)\n",
        "print(\"Total matches found:\", len(matches))\n",
        "\n",
        "# Iterate over the matches and print the span text\n",
        "for match_id, start, end in matches:\n",
        "    print(\"Match found:\", doc[start:end].text)\n",
        "\n",
        "\n",
        "                                                                                                                                                                 263,5   "
      ],
      "execution_count": 0,
      "outputs": []
    },
    {
      "cell_type": "code",
      "metadata": {
        "id": "DLzgxTH7K652",
        "colab_type": "code",
        "colab": {}
      },
      "source": [
        "\n",
        "\n",
        "## Matcher\n",
        "\n",
        "\n",
        "\n",
        "import spacy\n",
        "from spacy.matcher import Matcher\n",
        "    \n",
        "nlp = spacy.load(\"en_core_web_sm\")\n",
        "matcher = Matcher(nlp.vocab)\n",
        "    \n",
        "doc = nlp(\n",
        "    \"Features of the app include a beautiful design, smart search, automatic \"\n",
        "    \"labels and optional voice responses.\"\n",
        ")\n",
        "\n",
        "# Write a pattern for adjective plus one or two nouns\n",
        "pattern = [{\"POS\": ____}, {\"POS\": ____}, {\"POS\": ____, \"OP\": ____}]\n",
        "\n",
        "# Add the pattern to the matcher and apply the matcher to the doc\n",
        "matcher.add(\"ADJ_NOUN_PATTERN\", None, pattern)\n",
        "matches = matcher(doc)\n",
        "print(\"Total matches found:\", len(matches))\n",
        "    \n",
        "# Iterate over the matches and print the span text\n",
        "for match_id, start, end in matches:\n",
        "    print(\"Match found:\", doc[start:end].text)"
      ],
      "execution_count": 0,
      "outputs": []
    }
  ]
}