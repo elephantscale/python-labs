{
  "nbformat": 4,
  "nbformat_minor": 0,
  "metadata": {
    "colab": {
      "name": "Spacy-Example-1.ipynb",
      "provenance": []
    },
    "kernelspec": {
      "name": "python3",
      "display_name": "Python 3"
    }
  },
  "cells": [
    {
      "cell_type": "code",
      "metadata": {
        "id": "YV_5VTaPo9-H",
        "colab_type": "code",
        "colab": {}
      },
      "source": [
        "## English\n",
        "\n",
        "\n",
        "# Import the English language class\n",
        "from spacy.lang.____ import ____\n",
        "\n",
        "# Create the nlp object\n",
        "nlp = ____\n",
        "\n",
        "# Process a text\n",
        "doc = nlp(\"This is a sentence.\")\n",
        "\n",
        "# Print the document text\n",
        "print(____.text)\n",
        "\n",
        "\n",
        "\n",
        "## German\n",
        "\n",
        "\n",
        "# Import the German language class\n",
        "from spacy.lang.____ import ____\n",
        "\n",
        "# Create the nlp object\n",
        "nlp = ____\n",
        "\n",
        "# Process a text (this is German for: \"Kind regards!\")\n",
        "doc = nlp(\"Liebe Grüße!\")\n",
        "\n",
        "# Print the document text\n",
        "print(____.text)\n",
        "\n",
        "\n",
        "\n",
        "## Spanish \n",
        "\n",
        "\n",
        "# Import the Spanish language class\n",
        "from spacy.lang.____ import ____\n",
        "\n",
        "# Create the nlp object\n",
        "nlp = ____\n",
        "\n",
        "# Process a text (this is Spanish for: \"How are you?\")\n",
        "doc = nlp(\"¿Cómo estás?\")\n",
        "\n",
        "# Print the document text\n",
        "print(____.text)\n",
        "\n",
        "\n",
        "\n",
        "# Import the English language class and create the nlp object\n",
        "from ____ import ____\n",
        "\n",
        "nlp = ____\n",
        "\n",
        "# Process the text\n",
        "doc = ____(\"I like tree kangaroos and narwhals.\")\n",
        "\n",
        "# Select the first token\n",
        "first_token = doc[____]"
      ],
      "execution_count": 0,
      "outputs": []
    },
    {
      "cell_type": "code",
      "metadata": {
        "id": "K4yiHvu3pyQq",
        "colab_type": "code",
        "colab": {}
      },
      "source": [
        "## English\n",
        "\n",
        "\n",
        "# Import the English language class\n",
        "from spacy.lang.____ import ____\n",
        "\n",
        "# Create the nlp object\n",
        "nlp = ____\n",
        "\n",
        "# Process a text\n",
        "doc = nlp(\"This is a sentence.\")\n",
        "\n",
        "# Print the document text\n",
        "print(____.text)\n",
        "\n",
        "\n",
        "\n"
      ],
      "execution_count": 0,
      "outputs": []
    },
    {
      "cell_type": "code",
      "metadata": {
        "id": "eUrJG__mpy9E",
        "colab_type": "code",
        "colab": {}
      },
      "source": [
        "## English\n",
        "\n",
        "\n",
        "# Import the English language class\n",
        "from spacy.lang.____ import ____\n",
        "\n",
        "# Create the nlp object\n",
        "nlp = ____\n",
        "\n",
        "# Process a text\n",
        "doc = nlp(\"This is a sentence.\")\n",
        "\n",
        "# Print the document text\n",
        "print(____.text)\n",
        "\n",
        "\n",
        "\n"
      ],
      "execution_count": 0,
      "outputs": []
    },
    {
      "cell_type": "code",
      "metadata": {
        "id": "xFmO5fZWp8yC",
        "colab_type": "code",
        "colab": {}
      },
      "source": [
        ""
      ],
      "execution_count": 0,
      "outputs": []
    },
    {
      "cell_type": "code",
      "metadata": {
        "id": "_xVegeYMqBaa",
        "colab_type": "code",
        "colab": {}
      },
      "source": [
        "\n",
        "\n",
        "## Spanish \n",
        "\n",
        "\n",
        "# Import the Spanish language class\n",
        "from spacy.lang.____ import ____\n",
        "\n",
        "# Create the nlp object\n",
        "nlp = ____\n",
        "\n",
        "# Process a text (this is Spanish for: \"How are you?\")\n",
        "doc = nlp(\"¿Cómo estás?\")\n",
        "\n",
        "# Print the document text\n",
        "print(____.text)\n",
        "\n"
      ],
      "execution_count": 0,
      "outputs": []
    },
    {
      "cell_type": "code",
      "metadata": {
        "id": "w5dD3oBMqKFg",
        "colab_type": "code",
        "colab": {}
      },
      "source": [
        "\n",
        "## German\n",
        "\n",
        "\n",
        "# Import the German language class\n",
        "from spacy.lang.____ import ____\n",
        "\n",
        "# Create the nlp object\n",
        "nlp = ____\n",
        "\n",
        "# Process a text (this is German for: \"Kind regards!\")\n",
        "doc = nlp(\"Liebe Grüße!\")\n",
        "\n",
        "# Print the document text\n",
        "print(____.text)\n",
        "\n"
      ],
      "execution_count": 0,
      "outputs": []
    },
    {
      "cell_type": "code",
      "metadata": {
        "id": "FRhZXIliqUgp",
        "colab_type": "code",
        "colab": {}
      },
      "source": [
        "\n",
        "# Import the English language class and create the nlp object\n",
        "from ____ import ____\n",
        "\n",
        "nlp = ____\n",
        "\n",
        "# Process the text\n",
        "doc = ____(\"I like tree kangaroos and narwhals.\")\n",
        "\n",
        "# Select the first token\n",
        "first_token = doc[____]\n",
        "\n",
        "# Print the first token's text\n",
        "print(first_token.____)\n"
      ],
      "execution_count": 0,
      "outputs": []
    },
    {
      "cell_type": "code",
      "metadata": {
        "id": "mrH78jnzDuxG",
        "colab_type": "code",
        "colab": {}
      },
      "source": [
        "\n",
        "\n",
        "# A slice of the Doc for \"tree kangaroos\"\n",
        "tree_kangaroos = ____\n",
        "print(tree_kangaroos.text)\n",
        "\n",
        "# A slice of the Doc for \"tree kangaroos and narwhals\" (without the \".\")\n",
        "tree_kangaroos_and_narwhals = ____\n",
        "print(tree_kangaroos_and_narwhals.text)\n"
      ],
      "execution_count": 0,
      "outputs": []
    },
    {
      "cell_type": "code",
      "metadata": {
        "id": "0cz4c5u7EO1h",
        "colab_type": "code",
        "colab": {}
      },
      "source": [
        "\n",
        "# Load the 'en_core_web_sm' model\n",
        "nlp = ____\n",
        "\n",
        "# Process the text\n",
        "doc = nlp(\n",
        "    \"In 1990, more than 60% of people in East Asia were in extreme poverty. \"\n",
        "    \"Now less than 4% are.\"\n",
        ")\n",
        "\n",
        "# Iterate over the tokens in the doc\n",
        "for token in doc:\n",
        "    # Check if the token resembles a number\n",
        "    if ____.____:\n",
        "        # Get the next token in the document\n",
        "        next_token = ____[____]\n",
        "        # Check if the next token's text equals '%'\n",
        "        if next_token.____ == \"%\":\n",
        "            print(\"Percentage found:\", token.text)"
      ],
      "execution_count": 0,
      "outputs": []
    },
    {
      "cell_type": "code",
      "metadata": {
        "id": "q4ZLUSwBElAy",
        "colab_type": "code",
        "colab": {}
      },
      "source": [
        "\n",
        "text = \"It’s official: Apple is the first U.S. public company to reach a $1 trillion market value\"\n",
        "\n",
        "# Process the text\n",
        "doc = ____\n",
        "\n",
        "# Print the document text\n",
        "print(____.____)\n",
        "\n",
        "for token in doc:\n",
        "    # Get the token text, part-of-speech tag and dependency label\n",
        "    token_text = ____.____\n",
        "    token_pos = ____.____\n",
        "    token_dep = ____.____\n",
        "    # This is for formatting only\n",
        "    print(\"{:<12}{:<10}{:<10}\".format(token_text, token_pos, token_dep))\n"
      ],
      "execution_count": 0,
      "outputs": []
    }
  ]
}