{
 "cells": [
  {
   "cell_type": "markdown",
   "metadata": {},
   "source": [
    "# Exploring Pandas with NYC Flights Dataset\n",
    "\n",
    "R users will recognize this famous\n",
    "dataset as a favorite of Hadley Wickham, author of dplyr.  No matter, we can use\n",
    "it with pandas as\n",
    "well.\n",
    "\n",
    "This dataset will give us flight delay data from all\n",
    "flights departing from the three NYC airports (JFK, LGA, EWR) in the year 2013."
   ]
  },
  {
   "cell_type": "code",
   "execution_count": 1,
   "metadata": {
    "attributes": {
     "classes": [],
     "id": "",
     "n": "1"
    }
   },
   "outputs": [],
   "source": [
    "%matplotlib inline\n",
    "\n",
    "import pandas as pd\n",
    "import matplotlib.pyplot as plt\n",
    "import numpy as np"
   ]
  },
  {
   "cell_type": "code",
   "execution_count": 7,
   "metadata": {
    "attributes": {
     "classes": [],
     "id": "",
     "n": "2"
    }
   },
   "outputs": [
    {
     "name": "stdout",
     "output_type": "stream",
     "text": [
      "data_location:  ../data/nycflights13/flights.csv.gz\n"
     ]
    }
   ],
   "source": [
    "# get data\n",
    "import os\n",
    "import urllib.request\n",
    "\n",
    "data_location = \"../data/nycflights13/flights.csv.gz\"\n",
    "data_url = 'https://elephantscale-public.s3.amazonaws.com/data/nycflights13/flights.csv.gz'\n",
    "\n",
    "if not os.path.exists (data_location):\n",
    "    data_location = 'flights.csv.gz'\n",
    "    print(\"Downloading : \", data_url)\n",
    "    urllib.request.urlretrieve(data_url, data_location)\n",
    "print ('data_location: ', data_location)"
   ]
  },
  {
   "cell_type": "code",
   "execution_count": 9,
   "metadata": {
    "attributes": {
     "classes": [],
     "id": "",
     "n": "3"
    }
   },
   "outputs": [
    {
     "data": {
      "text/html": [
       "<div>\n",
       "<style scoped>\n",
       "    .dataframe tbody tr th:only-of-type {\n",
       "        vertical-align: middle;\n",
       "    }\n",
       "\n",
       "    .dataframe tbody tr th {\n",
       "        vertical-align: top;\n",
       "    }\n",
       "\n",
       "    .dataframe thead th {\n",
       "        text-align: right;\n",
       "    }\n",
       "</style>\n",
       "<table border=\"1\" class=\"dataframe\">\n",
       "  <thead>\n",
       "    <tr style=\"text-align: right;\">\n",
       "      <th></th>\n",
       "      <th>year</th>\n",
       "      <th>month</th>\n",
       "      <th>day</th>\n",
       "      <th>dep_time</th>\n",
       "      <th>sched_dep_time</th>\n",
       "      <th>dep_delay</th>\n",
       "      <th>arr_time</th>\n",
       "      <th>sched_arr_time</th>\n",
       "      <th>arr_delay</th>\n",
       "      <th>carrier</th>\n",
       "      <th>flight</th>\n",
       "      <th>tailnum</th>\n",
       "      <th>origin</th>\n",
       "      <th>dest</th>\n",
       "      <th>air_time</th>\n",
       "      <th>distance</th>\n",
       "      <th>hour</th>\n",
       "      <th>minute</th>\n",
       "      <th>time_hour</th>\n",
       "    </tr>\n",
       "  </thead>\n",
       "  <tbody>\n",
       "    <tr>\n",
       "      <th>0</th>\n",
       "      <td>2013</td>\n",
       "      <td>1</td>\n",
       "      <td>1</td>\n",
       "      <td>517.00</td>\n",
       "      <td>515</td>\n",
       "      <td>2.00</td>\n",
       "      <td>830.00</td>\n",
       "      <td>819</td>\n",
       "      <td>11.00</td>\n",
       "      <td>UA</td>\n",
       "      <td>1545</td>\n",
       "      <td>N14228</td>\n",
       "      <td>EWR</td>\n",
       "      <td>IAH</td>\n",
       "      <td>227.00</td>\n",
       "      <td>1400</td>\n",
       "      <td>5</td>\n",
       "      <td>15</td>\n",
       "      <td>2013-01-01 05:00:00</td>\n",
       "    </tr>\n",
       "    <tr>\n",
       "      <th>1</th>\n",
       "      <td>2013</td>\n",
       "      <td>1</td>\n",
       "      <td>1</td>\n",
       "      <td>533.00</td>\n",
       "      <td>529</td>\n",
       "      <td>4.00</td>\n",
       "      <td>850.00</td>\n",
       "      <td>830</td>\n",
       "      <td>20.00</td>\n",
       "      <td>UA</td>\n",
       "      <td>1714</td>\n",
       "      <td>N24211</td>\n",
       "      <td>LGA</td>\n",
       "      <td>IAH</td>\n",
       "      <td>227.00</td>\n",
       "      <td>1416</td>\n",
       "      <td>5</td>\n",
       "      <td>29</td>\n",
       "      <td>2013-01-01 05:00:00</td>\n",
       "    </tr>\n",
       "    <tr>\n",
       "      <th>2</th>\n",
       "      <td>2013</td>\n",
       "      <td>1</td>\n",
       "      <td>1</td>\n",
       "      <td>542.00</td>\n",
       "      <td>540</td>\n",
       "      <td>2.00</td>\n",
       "      <td>923.00</td>\n",
       "      <td>850</td>\n",
       "      <td>33.00</td>\n",
       "      <td>AA</td>\n",
       "      <td>1141</td>\n",
       "      <td>N619AA</td>\n",
       "      <td>JFK</td>\n",
       "      <td>MIA</td>\n",
       "      <td>160.00</td>\n",
       "      <td>1089</td>\n",
       "      <td>5</td>\n",
       "      <td>40</td>\n",
       "      <td>2013-01-01 05:00:00</td>\n",
       "    </tr>\n",
       "    <tr>\n",
       "      <th>3</th>\n",
       "      <td>2013</td>\n",
       "      <td>1</td>\n",
       "      <td>1</td>\n",
       "      <td>544.00</td>\n",
       "      <td>545</td>\n",
       "      <td>-1.00</td>\n",
       "      <td>1,004.00</td>\n",
       "      <td>1022</td>\n",
       "      <td>-18.00</td>\n",
       "      <td>B6</td>\n",
       "      <td>725</td>\n",
       "      <td>N804JB</td>\n",
       "      <td>JFK</td>\n",
       "      <td>BQN</td>\n",
       "      <td>183.00</td>\n",
       "      <td>1576</td>\n",
       "      <td>5</td>\n",
       "      <td>45</td>\n",
       "      <td>2013-01-01 05:00:00</td>\n",
       "    </tr>\n",
       "    <tr>\n",
       "      <th>4</th>\n",
       "      <td>2013</td>\n",
       "      <td>1</td>\n",
       "      <td>1</td>\n",
       "      <td>554.00</td>\n",
       "      <td>600</td>\n",
       "      <td>-6.00</td>\n",
       "      <td>812.00</td>\n",
       "      <td>837</td>\n",
       "      <td>-25.00</td>\n",
       "      <td>DL</td>\n",
       "      <td>461</td>\n",
       "      <td>N668DN</td>\n",
       "      <td>LGA</td>\n",
       "      <td>ATL</td>\n",
       "      <td>116.00</td>\n",
       "      <td>762</td>\n",
       "      <td>6</td>\n",
       "      <td>0</td>\n",
       "      <td>2013-01-01 06:00:00</td>\n",
       "    </tr>\n",
       "    <tr>\n",
       "      <th>...</th>\n",
       "      <td>...</td>\n",
       "      <td>...</td>\n",
       "      <td>...</td>\n",
       "      <td>...</td>\n",
       "      <td>...</td>\n",
       "      <td>...</td>\n",
       "      <td>...</td>\n",
       "      <td>...</td>\n",
       "      <td>...</td>\n",
       "      <td>...</td>\n",
       "      <td>...</td>\n",
       "      <td>...</td>\n",
       "      <td>...</td>\n",
       "      <td>...</td>\n",
       "      <td>...</td>\n",
       "      <td>...</td>\n",
       "      <td>...</td>\n",
       "      <td>...</td>\n",
       "      <td>...</td>\n",
       "    </tr>\n",
       "    <tr>\n",
       "      <th>336771</th>\n",
       "      <td>2013</td>\n",
       "      <td>9</td>\n",
       "      <td>30</td>\n",
       "      <td>nan</td>\n",
       "      <td>1455</td>\n",
       "      <td>nan</td>\n",
       "      <td>nan</td>\n",
       "      <td>1634</td>\n",
       "      <td>nan</td>\n",
       "      <td>9E</td>\n",
       "      <td>3393</td>\n",
       "      <td>NaN</td>\n",
       "      <td>JFK</td>\n",
       "      <td>DCA</td>\n",
       "      <td>nan</td>\n",
       "      <td>213</td>\n",
       "      <td>14</td>\n",
       "      <td>55</td>\n",
       "      <td>2013-09-30 14:00:00</td>\n",
       "    </tr>\n",
       "    <tr>\n",
       "      <th>336772</th>\n",
       "      <td>2013</td>\n",
       "      <td>9</td>\n",
       "      <td>30</td>\n",
       "      <td>nan</td>\n",
       "      <td>2200</td>\n",
       "      <td>nan</td>\n",
       "      <td>nan</td>\n",
       "      <td>2312</td>\n",
       "      <td>nan</td>\n",
       "      <td>9E</td>\n",
       "      <td>3525</td>\n",
       "      <td>NaN</td>\n",
       "      <td>LGA</td>\n",
       "      <td>SYR</td>\n",
       "      <td>nan</td>\n",
       "      <td>198</td>\n",
       "      <td>22</td>\n",
       "      <td>0</td>\n",
       "      <td>2013-09-30 22:00:00</td>\n",
       "    </tr>\n",
       "    <tr>\n",
       "      <th>336773</th>\n",
       "      <td>2013</td>\n",
       "      <td>9</td>\n",
       "      <td>30</td>\n",
       "      <td>nan</td>\n",
       "      <td>1210</td>\n",
       "      <td>nan</td>\n",
       "      <td>nan</td>\n",
       "      <td>1330</td>\n",
       "      <td>nan</td>\n",
       "      <td>MQ</td>\n",
       "      <td>3461</td>\n",
       "      <td>N535MQ</td>\n",
       "      <td>LGA</td>\n",
       "      <td>BNA</td>\n",
       "      <td>nan</td>\n",
       "      <td>764</td>\n",
       "      <td>12</td>\n",
       "      <td>10</td>\n",
       "      <td>2013-09-30 12:00:00</td>\n",
       "    </tr>\n",
       "    <tr>\n",
       "      <th>336774</th>\n",
       "      <td>2013</td>\n",
       "      <td>9</td>\n",
       "      <td>30</td>\n",
       "      <td>nan</td>\n",
       "      <td>1159</td>\n",
       "      <td>nan</td>\n",
       "      <td>nan</td>\n",
       "      <td>1344</td>\n",
       "      <td>nan</td>\n",
       "      <td>MQ</td>\n",
       "      <td>3572</td>\n",
       "      <td>N511MQ</td>\n",
       "      <td>LGA</td>\n",
       "      <td>CLE</td>\n",
       "      <td>nan</td>\n",
       "      <td>419</td>\n",
       "      <td>11</td>\n",
       "      <td>59</td>\n",
       "      <td>2013-09-30 11:00:00</td>\n",
       "    </tr>\n",
       "    <tr>\n",
       "      <th>336775</th>\n",
       "      <td>2013</td>\n",
       "      <td>9</td>\n",
       "      <td>30</td>\n",
       "      <td>nan</td>\n",
       "      <td>840</td>\n",
       "      <td>nan</td>\n",
       "      <td>nan</td>\n",
       "      <td>1020</td>\n",
       "      <td>nan</td>\n",
       "      <td>MQ</td>\n",
       "      <td>3531</td>\n",
       "      <td>N839MQ</td>\n",
       "      <td>LGA</td>\n",
       "      <td>RDU</td>\n",
       "      <td>nan</td>\n",
       "      <td>431</td>\n",
       "      <td>8</td>\n",
       "      <td>40</td>\n",
       "      <td>2013-09-30 08:00:00</td>\n",
       "    </tr>\n",
       "  </tbody>\n",
       "</table>\n",
       "<p>336776 rows × 19 columns</p>\n",
       "</div>"
      ],
      "text/plain": [
       "        year  month  day  dep_time  sched_dep_time  dep_delay  arr_time  \\\n",
       "0       2013      1    1    517.00             515       2.00    830.00   \n",
       "1       2013      1    1    533.00             529       4.00    850.00   \n",
       "2       2013      1    1    542.00             540       2.00    923.00   \n",
       "3       2013      1    1    544.00             545      -1.00  1,004.00   \n",
       "4       2013      1    1    554.00             600      -6.00    812.00   \n",
       "...      ...    ...  ...       ...             ...        ...       ...   \n",
       "336771  2013      9   30       nan            1455        nan       nan   \n",
       "336772  2013      9   30       nan            2200        nan       nan   \n",
       "336773  2013      9   30       nan            1210        nan       nan   \n",
       "336774  2013      9   30       nan            1159        nan       nan   \n",
       "336775  2013      9   30       nan             840        nan       nan   \n",
       "\n",
       "        sched_arr_time  arr_delay carrier  flight tailnum origin dest  \\\n",
       "0                  819      11.00      UA    1545  N14228    EWR  IAH   \n",
       "1                  830      20.00      UA    1714  N24211    LGA  IAH   \n",
       "2                  850      33.00      AA    1141  N619AA    JFK  MIA   \n",
       "3                 1022     -18.00      B6     725  N804JB    JFK  BQN   \n",
       "4                  837     -25.00      DL     461  N668DN    LGA  ATL   \n",
       "...                ...        ...     ...     ...     ...    ...  ...   \n",
       "336771            1634        nan      9E    3393     NaN    JFK  DCA   \n",
       "336772            2312        nan      9E    3525     NaN    LGA  SYR   \n",
       "336773            1330        nan      MQ    3461  N535MQ    LGA  BNA   \n",
       "336774            1344        nan      MQ    3572  N511MQ    LGA  CLE   \n",
       "336775            1020        nan      MQ    3531  N839MQ    LGA  RDU   \n",
       "\n",
       "        air_time  distance  hour  minute            time_hour  \n",
       "0         227.00      1400     5      15  2013-01-01 05:00:00  \n",
       "1         227.00      1416     5      29  2013-01-01 05:00:00  \n",
       "2         160.00      1089     5      40  2013-01-01 05:00:00  \n",
       "3         183.00      1576     5      45  2013-01-01 05:00:00  \n",
       "4         116.00       762     6       0  2013-01-01 06:00:00  \n",
       "...          ...       ...   ...     ...                  ...  \n",
       "336771       nan       213    14      55  2013-09-30 14:00:00  \n",
       "336772       nan       198    22       0  2013-09-30 22:00:00  \n",
       "336773       nan       764    12      10  2013-09-30 12:00:00  \n",
       "336774       nan       419    11      59  2013-09-30 11:00:00  \n",
       "336775       nan       431     8      40  2013-09-30 08:00:00  \n",
       "\n",
       "[336776 rows x 19 columns]"
      ]
     },
     "execution_count": 9,
     "metadata": {},
     "output_type": "execute_result"
    }
   ],
   "source": [
    "pd.options.display.float_format = '{:,.2f}'.format\n",
    "df = pd.read_csv(data_location)\n",
    "df"
   ]
  },
  {
   "cell_type": "markdown",
   "metadata": {},
   "source": [
    "Let us focus on some summary and visualizations that we can do here. Let's start\n",
    "out by finding the average delay by month.  We'll also do a matlibplot on it."
   ]
  },
  {
   "cell_type": "code",
   "execution_count": 4,
   "metadata": {
    "attributes": {
     "classes": [],
     "id": "",
     "n": "4"
    }
   },
   "outputs": [
    {
     "data": {
      "text/plain": [
       "month\n",
       "1      6.129972\n",
       "2      5.613019\n",
       "3      5.807577\n",
       "4     11.176063\n",
       "5      3.521509\n",
       "6     16.481330\n",
       "7     16.711307\n",
       "8      6.040652\n",
       "9     -4.018364\n",
       "10    -0.167063\n",
       "11     0.461347\n",
       "12    14.870355\n",
       "Name: arr_delay, dtype: float64"
      ]
     },
     "execution_count": 4,
     "metadata": {},
     "output_type": "execute_result"
    }
   ],
   "source": [
    "mean_delay_by_month = df.groupby(['month'])['arr_delay'].mean()\n",
    "mean_delay_by_month"
   ]
  },
  {
   "cell_type": "code",
   "execution_count": 5,
   "metadata": {
    "attributes": {
     "classes": [],
     "id": "",
     "n": "5"
    }
   },
   "outputs": [
    {
     "data": {
      "text/plain": [
       "<matplotlib.axes._subplots.AxesSubplot at 0x10316a358>"
      ]
     },
     "execution_count": 5,
     "metadata": {},
     "output_type": "execute_result"
    },
    {
     "data": {
      "image/png": "[encoded data removed]",
      "text/plain": [
       "<matplotlib.figure.Figure at 0x106318ba8>"
      ]
     },
     "metadata": {},
     "output_type": "display_data"
    }
   ],
   "source": [
    "mean_month_plt = mean_delay_by_month.plot(kind='bar', title=\"Mean Delay By Month\")\n",
    "mean_month_plt"
   ]
  },
  {
   "cell_type": "markdown",
   "metadata": {},
   "source": [
    "Notice that flights in two months actually have negative delay.  No doubt\n",
    "airlines \"pad\" flight times to achieve better results.\n",
    "\n",
    "One would guess that\n",
    "flights to certain airports may have different results. For example, flights to\n",
    "Chicago (ORD) would no doubt be affected by winter weather. Let's take a look at\n",
    "that."
   ]
  },
  {
   "cell_type": "code",
   "execution_count": 16,
   "metadata": {
    "attributes": {
     "classes": [],
     "id": "",
     "n": "16"
    }
   },
   "outputs": [
    {
     "data": {
      "text/plain": [
       "<matplotlib.axes._subplots.AxesSubplot at 0x1040f0390>"
      ]
     },
     "execution_count": 16,
     "metadata": {},
     "output_type": "execute_result"
    },
    {
     "data": {
      "image/png": "[encoded data removed]",
      "text/plain": [
       "<matplotlib.figure.Figure at 0x1041feac8>"
      ]
     },
     "metadata": {},
     "output_type": "display_data"
    }
   ],
   "source": [
    "df[['arr_delay', 'month']].groupby('month').mean().plot(kind='bar')\n"
   ]
  },
  {
   "cell_type": "code",
   "execution_count": 10,
   "metadata": {
    "attributes": {
     "classes": [],
     "id": "",
     "n": "10"
    }
   },
   "outputs": [
    {
     "data": {
      "text/plain": [
       "month\n",
       "1      7.287694\n",
       "2      3.680794\n",
       "3     -2.702473\n",
       "4     19.179352\n",
       "5      7.938280\n",
       "6     13.299376\n",
       "7      8.405514\n",
       "8      4.256851\n",
       "9     -4.745370\n",
       "10    -1.597090\n",
       "11     2.071058\n",
       "12    16.462817\n",
       "Name: arr_delay, dtype: float64"
      ]
     },
     "execution_count": 10,
     "metadata": {},
     "output_type": "execute_result"
    }
   ],
   "source": [
    "mean_delay_by_month_ord = df[(df.dest == 'ORD')].groupby(['month'])['arr_delay'].mean()\n",
    "mean_delay_by_month_ord\n"
   ]
  },
  {
   "cell_type": "code",
   "execution_count": 6,
   "metadata": {
    "attributes": {
     "classes": [],
     "id": "",
     "n": "6"
    }
   },
   "outputs": [
    {
     "name": "stdout",
     "output_type": "stream",
     "text": [
      "Flights to Chicago (ORD)\n",
      "month\n",
      "1      7.287694\n",
      "2      3.680794\n",
      "3     -2.702473\n",
      "4     19.179352\n",
      "5      7.938280\n",
      "6     13.299376\n",
      "7      8.405514\n",
      "8      4.256851\n",
      "9     -4.745370\n",
      "10    -1.597090\n",
      "11     2.071058\n",
      "12    16.462817\n",
      "Name: arr_delay, dtype: float64\n"
     ]
    },
    {
     "data": {
      "text/plain": [
       "<matplotlib.axes._subplots.AxesSubplot at 0x103a5dc18>"
      ]
     },
     "execution_count": 6,
     "metadata": {},
     "output_type": "execute_result"
    },
    {
     "data": {
      "image/png": "[encoded data removed]",
      "text/plain": [
       "<matplotlib.figure.Figure at 0x1040e60f0>"
      ]
     },
     "metadata": {},
     "output_type": "display_data"
    }
   ],
   "source": [
    "mean_delay_by_month_ord = df[(df.dest == 'ORD')].groupby(['month'])['arr_delay'].mean()\n",
    "print(\"Flights to Chicago (ORD)\")\n",
    "print(mean_delay_by_month_ord)\n",
    "\n",
    "mean_month_plt_ord = mean_delay_by_month_ord.plot(kind='bar', title=\"Mean Delay By Month (Chicago)\")\n",
    "mean_month_plt_ord\n"
   ]
  },
  {
   "cell_type": "code",
   "execution_count": 7,
   "metadata": {
    "attributes": {
     "classes": [],
     "id": "",
     "n": "7"
    }
   },
   "outputs": [
    {
     "name": "stdout",
     "output_type": "stream",
     "text": [
      "Flights to Los Angeles (LAX)\n",
      "month\n",
      "1     -4.160312\n",
      "2     -7.601824\n",
      "3     -5.280928\n",
      "4      3.085153\n",
      "5     -7.150657\n",
      "6     13.007027\n",
      "7      8.191432\n",
      "8      1.028667\n",
      "9     -8.719044\n",
      "10    -1.205694\n",
      "11    -0.103290\n",
      "12    10.724460\n",
      "Name: arr_delay, dtype: float64\n"
     ]
    },
    {
     "data": {
      "text/plain": [
       "<matplotlib.axes._subplots.AxesSubplot at 0x104227da0>"
      ]
     },
     "execution_count": 7,
     "metadata": {},
     "output_type": "execute_result"
    },
    {
     "data": {
      "image/png": "[encoded data removed]",
      "text/plain": [
       "<matplotlib.figure.Figure at 0x104190dd8>"
      ]
     },
     "metadata": {},
     "output_type": "display_data"
    }
   ],
   "source": [
    "# Let's try Los Angeles and compare that\n",
    "\n",
    "mean_delay_by_month_lax = df[(df.dest == 'LAX')].groupby(['month'])['arr_delay'].mean()\n",
    "print(\"Flights to Los Angeles (LAX)\")\n",
    "print(mean_delay_by_month_lax)\n",
    "\n",
    "mean_month_plt_lax = mean_delay_by_month_lax.plot(kind='bar', title=\"Mean Delay By Month (Los Angeles)\")\n",
    "mean_month_plt_lax"
   ]
  },
  {
   "cell_type": "markdown",
   "metadata": {},
   "source": [
    "Perhaps we would like to see which Airline carrier is the best for delays.  Here\n",
    "we have some plots to do that."
   ]
  },
  {
   "cell_type": "code",
   "execution_count": null,
   "metadata": {},
   "outputs": [],
   "source": [
    "# Examine if specific carrier will create different delay impact\n",
    "df[['carrier','arr_delay']].groupby('carrier').mean().plot(kind='bar', figsize =(12,8))\n",
    "plt.xticks(rotation=0)\n",
    "plt.xlabel('Carrier')\n",
    "plt.ylabel('Average Delay in Min')\n",
    "plt.title('Average Arrival Delay by Carrier in 2008, All  airports')\n",
    "\n",
    "\n",
    "df[['carrier','dep_delay']].groupby('carrier').mean().plot(kind='bar', figsize =(12,8))\n",
    "plt.xticks(rotation=0)\n",
    "plt.xlabel('Carrier')\n",
    "plt.ylabel('Average Delay in Min')\n",
    "plt.title('Average Departure Delay by Carrier in 2008, All  airports')\n"
   ]
  },
  {
   "cell_type": "markdown",
   "metadata": {},
   "source": [
    "We see that F9 (Frontier Airlines) is among the worst in terms of delays, while\n",
    "Hawaiian (HA) is among the best.\n",
    "\n",
    "### Joins\n",
    "\n",
    "We have a couple of other tables in our dataset: Weather, and\n",
    "airports. Let's look at these two tables and see if we can perform joins."
   ]
  },
  {
   "cell_type": "code",
   "execution_count": null,
   "metadata": {},
   "outputs": [],
   "source": [
    "weather = pd.read_csv('https://elephantscale-public.s3.amazonaws.com/data/nycflights13/weather.csv.gz')\n",
    "weather"
   ]
  },
  {
   "cell_type": "code",
   "execution_count": null,
   "metadata": {},
   "outputs": [],
   "source": [
    "df_withweather = pd.merge(df, weather, how='left', on=['year','month', 'day', 'hour', 'origin'])\n",
    "df_withweather"
   ]
  },
  {
   "cell_type": "code",
   "execution_count": null,
   "metadata": {},
   "outputs": [],
   "source": [
    "airports = pd.read_csv('https://elephantscale-public.s3.amazonaws.com/data/nycflights13/airports.csv.gz')\n",
    "airports"
   ]
  },
  {
   "cell_type": "code",
   "execution_count": null,
   "metadata": {},
   "outputs": [],
   "source": [
    "df_withairport = pd.merge(df_withweather, airports, how='left', left_on='dest', right_on='faa')\n",
    "df_withairport"
   ]
  }
 ],
 "metadata": {
  "kernelspec": {
   "display_name": "Python 3",
   "language": "python",
   "name": "python3"
  },
  "language_info": {
   "codemirror_mode": {
    "name": "ipython",
    "version": 3
   },
   "file_extension": ".py",
   "mimetype": "text/x-python",
   "name": "python",
   "nbconvert_exporter": "python",
   "pygments_lexer": "ipython3",
   "version": "3.8.2"
  }
 },
 "nbformat": 4,
 "nbformat_minor": 4
}
