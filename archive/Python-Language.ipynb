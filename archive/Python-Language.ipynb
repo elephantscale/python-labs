{
 "cells": [
  {
   "cell_type": "markdown",
   "metadata": {
    "pycharm": {
     "name": "#%% md\n"
    }
   },
   "source": [
    "# Python Language Labs\n",
    "\n",
    "This will be our python language labs\n",
    "\n",
    "\n",
    "## Jupyter Notebooks\n",
    "\n",
    "Some of the labs here are jupyter notebooks.  To start them, Type in the following:\n",
    "\n",
    "```bash\n",
    "  jupyter notebook\n",
    "```\n",
    "\n",
    "\n",
    "This will open up a browser window that will allow you to open the notebooks. \n",
    "\n",
    "\n",
    "### Labs\n",
    "\n",
    " 1. [Hello world](helloworld/)\n",
    "    * [1-REPL.md](helloworld/1.1-REPL.md)\n",
    "    * [2-Script.md](helloworld/1.2-Script.md)\n",
    "    * [3-spyder.md](helloworld/1.3-spyder.md)\n",
    " 1. [IDE](ide/)\n",
    "    * [1-Install.md](ide/1.1-vscode-install.md)\n",
    "    * [2-Getting-started.md](.ide/1.2-vscode-gettingstarted.md)\n",
    "    * [3-debugging.md](ide/1.3-vscode-debugging.md)\n",
    "    * [4-spyder.md](ide/1.4-spyder.md)\n",
    " 2. [Notebooks](notebooks/)\n",
    "    * [1-starting-jupyter.md](notebooks/2.1-starting-jupyter.md)\n",
    "    * [2-learning-jupyter.ipynb](notebooks/2.2-learning-jupyter.md)\n",
    " 3. [Language Basics](languagebasics/)\n",
    "    * [1-types.ipynb](languagebasics/1-types.ipynb)\n",
    "    * [2-conditionals.ipynb](languagebasics/2-conditionals.ipynb)\n",
    "    * [3-loops.ipynb](languagebasics/3-loops.ipynb)\n",
    "    * [4-functions.ipynb](languagebasics/4-functions.ipynb)\n",
    "    * [5-string.md](languagebasics/3.5-string.md)\n",
    "    * [6-files.md](languagebasics/3.6-files.md)\n",
    "    * [7-oop.md](languagebasics/7-oop.md)\n",
    " 4. [Numpy](numpy)/\n",
    "    * [1-numpy-intro.ipynb](numpy/1-numpy-intro.ipynb)\n",
    " 5. [Pandas](pandas)/\n",
    "    * [1-pandas-intro.ipynb](numpy/1-pandas-intro.ipynb)\n",
    "    * [2-pandas-exploration.ipynb](numpy/2-pandas-exploration.ipynb)\n",
    " 6. [Web](web/)\n",
    "    * [1-setup-dev-env.ipynb](web/6.1-setup-dev-env.ipynb)\n",
    "    * [2-time-tracker-webservice.ipynb](web/6.2-time-tracker-webservice.ipynb)\n",
    "    * [3-time-tracker-webclient.ipynb](web/6.3-time-tracker-webclient.ipynb)\n",
    " 7. [Database](database/)\n",
    "    * [1-databases.ipynb](database/7.1-databases.ipynb)\n",
    " 8. [Deployment](deployment/)\n",
    "    * [1-dockerfile.md](deployment/8.1-dockerfile.md)\n",
    " 9. [Interop](interop/)\n",
    " 10. [RxPy](rxpy/)\n"
   ]
  },
  {
   "cell_type": "code",
   "execution_count": null,
   "metadata": {
    "pycharm": {
     "name": "#%%\n"
    }
   },
   "outputs": [],
   "source": []
  }
 ],
 "metadata": {
  "kernelspec": {
   "display_name": "Python 3",
   "language": "python",
   "name": "python3"
  },
  "language_info": {
   "codemirror_mode": {
    "name": "ipython",
    "version": 3
   },
   "file_extension": ".py",
   "mimetype": "text/x-python",
   "name": "python",
   "nbconvert_exporter": "python",
   "pygments_lexer": "ipython3",
   "version": "3.8.2"
  }
 },
 "nbformat": 4,
 "nbformat_minor": 4
}