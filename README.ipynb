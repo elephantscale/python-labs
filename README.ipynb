{
 "cells": [
  {
   "cell_type": "markdown",
   "metadata": {},
   "source": [
    "# Python Labs\n",
    "\n",
    "This will be our python related labs including all language and data science topics \n",
    "\n",
    "This is the repo for several of our Python-related courses\n",
    "\n",
    "1. [Python Language Labs](./Python-Language.ipynb)\n",
    "2. [Python Data Science Labs](./Python-Data-Science.ipynb)\n",
    "3. [Python Text Labs](./Python-Text.ipynb)\n",
    "\n",
    "We also have another python repo which is our ML course which maps closely to the Spark Machine Learning. \n",
    "\n",
    "This is in the Python ML labs location \n",
    "\n",
    "1. [Python ML Labs](https://github.com/elephantscale/ml-labs-python/blob/master/README.md)\n",
    "\n"
   ]
  },
  {
   "cell_type": "code",
   "execution_count": null,
   "metadata": {},
   "outputs": [],
   "source": []
  }
 ],
 "metadata": {
  "kernelspec": {
   "display_name": "Python 3",
   "language": "python",
   "name": "python3"
  },
  "language_info": {
   "codemirror_mode": {
    "name": "ipython",
    "version": 3
   },
   "file_extension": ".py",
   "mimetype": "text/x-python",
   "name": "python",
   "nbconvert_exporter": "python",
   "pygments_lexer": "ipython3",
   "version": "3.8.2"
  }
 },
 "nbformat": 4,
 "nbformat_minor": 4
}
