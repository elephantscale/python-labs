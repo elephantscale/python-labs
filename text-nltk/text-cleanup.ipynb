{
 "cells": [
  {
   "cell_type": "markdown",
   "metadata": {},
   "source": [
    "# Text Cleanup"
   ]
  },
  {
   "cell_type": "markdown",
   "metadata": {},
   "source": [
    "## Strip Markup Tags"
   ]
  },
  {
   "cell_type": "code",
   "execution_count": null,
   "metadata": {},
   "outputs": [],
   "source": [
    "from bs4 import BeautifulSoup\n",
    "\n",
    "str = \"\"\"It was the <b>best of times</b>. It was the <b>worst of times</b>! It was the age of wisdom!!\n",
    "<br>\n",
    "$123\"\"\"\n",
    "\n",
    "cleantext = BeautifulSoup(str).text\n",
    "print(cleantext)"
   ]
  },
  {
   "cell_type": "markdown",
   "metadata": {},
   "source": [
    "## LowerCase"
   ]
  },
  {
   "cell_type": "code",
   "execution_count": null,
   "metadata": {},
   "outputs": [],
   "source": [
    "str = \"\"\"It was the best of times. It was the worst of times! It was the age of wisdom!!\n",
    "$123\"\"\"\n",
    "\n",
    "## TODO : use 'lower' function\n",
    "str_lower = str.???()\n",
    "str_lower"
   ]
  },
  {
   "cell_type": "markdown",
   "metadata": {},
   "source": [
    "## Tokenize"
   ]
  },
  {
   "cell_type": "code",
   "execution_count": null,
   "metadata": {},
   "outputs": [],
   "source": [
    "import nltk\n",
    "\n",
    "str = \"\"\"It was the best of times. It was the worst of times! It was the age of wisdom!!\n",
    "$123\"\"\"\n",
    "\n",
    "str_lower = str.lower()\n",
    "\n",
    "words = nltk.word_tokenize(str_lower)\n",
    "\n",
    "print (words)"
   ]
  },
  {
   "cell_type": "markdown",
   "metadata": {},
   "source": [
    "## Strip Puncutations/Numbers"
   ]
  },
  {
   "cell_type": "code",
   "execution_count": null,
   "metadata": {},
   "outputs": [],
   "source": [
    "import nltk\n",
    "\n",
    "str = \"\"\"It was the best of times. It was the worst of times! It was the age of wisdom!!\n",
    "$123\"\"\"\n",
    "\n",
    "str_lower = str.lower()\n",
    "\n",
    "words = nltk.word_tokenize(str_lower)\n",
    "\n",
    "print ('before:\\n', words)\n",
    "\n",
    "## TODO : use 'isalpha' function to check the word\n",
    "words=[word for word in words if word.???()]\n",
    "\n",
    "\n",
    "print ('after:\\n', words)"
   ]
  },
  {
   "cell_type": "code",
   "execution_count": null,
   "metadata": {},
   "outputs": [],
   "source": [
    "from nltk.tokenize import RegexpTokenizer\n",
    "\n",
    "str = \"\"\"It was the best of times. It was the worst of times! It was the age of wisdom!!\n",
    "$123\"\"\"\n",
    "tokenizer = RegexpTokenizer(r'\\w+')\n",
    "words = tokenizer.tokenize(str)\n",
    "print (words)"
   ]
  },
  {
   "cell_type": "markdown",
   "metadata": {},
   "source": [
    "## Remove Stop Words"
   ]
  },
  {
   "cell_type": "code",
   "execution_count": null,
   "metadata": {},
   "outputs": [],
   "source": [
    "## print out stopwords\n",
    "\n",
    "import nltk\n",
    "from nltk.corpus import stopwords\n",
    "\n",
    "## TODO : look at stopwords for following languages:  english, spanish, german\n",
    "stopwords_en = stopwords.words('english')\n",
    "stopwords_en.sort()\n",
    "print ('number of stop words:', len(stopwords_en))\n",
    "print()\n",
    "print (stopwords_en)\n"
   ]
  },
  {
   "cell_type": "code",
   "execution_count": null,
   "metadata": {},
   "outputs": [],
   "source": [
    "import nltk\n",
    "from nltk.corpus import stopwords\n",
    "\n",
    "str = \"\"\"It was the best of times. It was the worst of times! It was the age of wisdom!!\n",
    "$123\"\"\"\n",
    "\n",
    "## Tokenize\n",
    "str_lower = str.lower()\n",
    "words = nltk.word_tokenize(str_lower)\n",
    "words=[word for word in words if word.isalpha()]\n",
    "\n",
    "# grab stopwords\n",
    "stopwords_en = stopwords.words('english')\n",
    "\n",
    "print ('before:\\n', words)\n",
    "## filter out stopwords\n",
    "words = [w for w in words if not w in stopwords_en]\n",
    "print ('after:\\n', words)"
   ]
  },
  {
   "cell_type": "markdown",
   "metadata": {},
   "source": [
    "## Lemmatization"
   ]
  },
  {
   "cell_type": "code",
   "execution_count": null,
   "metadata": {},
   "outputs": [],
   "source": [
    "import nltk\n",
    "from nltk.stem import WordNetLemmatizer\n",
    "\n",
    "words = ['run', 'running', 'books', 'people', 'leaves',  'mice']\n",
    "\n",
    "lemmatizer = WordNetLemmatizer() \n",
    "for w in words:\n",
    "    print (w, ':', lemmatizer.lemmatize(w))"
   ]
  },
  {
   "cell_type": "code",
   "execution_count": null,
   "metadata": {},
   "outputs": [],
   "source": []
  }
 ],
 "metadata": {
  "kernelspec": {
   "display_name": "Python 3",
   "language": "python",
   "name": "python3"
  },
  "language_info": {
   "codemirror_mode": {
    "name": "ipython",
    "version": 3
   },
   "file_extension": ".py",
   "mimetype": "text/x-python",
   "name": "python",
   "nbconvert_exporter": "python",
   "pygments_lexer": "ipython3",
   "version": "3.8.5"
  }
 },
 "nbformat": 4,
 "nbformat_minor": 4
}
