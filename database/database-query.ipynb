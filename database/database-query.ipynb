{
 "cells": [
  {
   "cell_type": "code",
   "execution_count": 15,
   "id": "9015da47-683f-464e-88d1-070cd7cd1873",
   "metadata": {},
   "outputs": [
    {
     "ename": "ModuleNotFoundError",
     "evalue": "No module named 'mysql'",
     "output_type": "error",
     "traceback": [
      "\u001b[0;31m---------------------------------------------------------------------------\u001b[0m",
      "\u001b[0;31mModuleNotFoundError\u001b[0m                       Traceback (most recent call last)",
      "\u001b[0;32m/tmp/ipykernel_138362/4131037277.py\u001b[0m in \u001b[0;36m<module>\u001b[0;34m\u001b[0m\n\u001b[0;32m----> 1\u001b[0;31m \u001b[0;32mimport\u001b[0m \u001b[0mmysql\u001b[0m\u001b[0;34m.\u001b[0m\u001b[0mconnector\u001b[0m\u001b[0;34m\u001b[0m\u001b[0;34m\u001b[0m\u001b[0m\n\u001b[0m",
      "\u001b[0;31mModuleNotFoundError\u001b[0m: No module named 'mysql'"
     ]
    }
   ],
   "source": [
    "import mysql.connector"
   ]
  },
  {
   "cell_type": "code",
   "execution_count": 16,
   "id": "902a794d-78ea-43aa-8aef-bd7cfbfe0a06",
   "metadata": {},
   "outputs": [
    {
     "name": "stdout",
     "output_type": "stream",
     "text": [
      "Collecting mysql-connector-python\n",
      "  Downloading mysql_connector_python-8.0.30-cp38-cp38-manylinux1_x86_64.whl (25.4 MB)\n",
      "\u001b[K     |████████████████████████████████| 25.4 MB 26.4 MB/s eta 0:00:01    |██████▌                         | 5.2 MB 26.4 MB/s eta 0:00:01     |█████████████████████▏          | 16.8 MB 26.4 MB/s eta 0:00:01\n",
      "\u001b[?25hCollecting protobuf<=3.20.1,>=3.11.0\n",
      "  Downloading protobuf-3.20.1-cp38-cp38-manylinux_2_5_x86_64.manylinux1_x86_64.whl (1.0 MB)\n",
      "\u001b[K     |████████████████████████████████| 1.0 MB 67.7 MB/s eta 0:00:01\n",
      "\u001b[?25hInstalling collected packages: protobuf, mysql-connector-python\n",
      "Successfully installed mysql-connector-python-8.0.30 protobuf-3.20.1\n",
      "Note: you may need to restart the kernel to use updated packages.\n"
     ]
    }
   ],
   "source": [
    "pip install mysql-connector-python"
   ]
  },
  {
   "cell_type": "code",
   "execution_count": 1,
   "id": "3db19934-234d-428d-922d-53d584ed64d4",
   "metadata": {},
   "outputs": [],
   "source": [
    "import mysql.connector"
   ]
  },
  {
   "cell_type": "code",
   "execution_count": 15,
   "id": "916e4ab9-8bc3-4807-b2c2-1161ba1926ba",
   "metadata": {},
   "outputs": [
    {
     "name": "stdout",
     "output_type": "stream",
     "text": [
      "<mysql.connector.connection_cext.CMySQLConnection object at 0x7f5700418ac0>\n"
     ]
    }
   ],
   "source": [
    "mydb = mysql.connector.connect(\n",
    " host=\"localhost\",\n",
    "    user=\"root\",\n",
    "    password=\"passNew@@123\",\n",
    "    database=\"finalDb\"\n",
    ")\n",
    "\n",
    "print (mydb)"
   ]
  },
  {
   "cell_type": "code",
   "execution_count": 16,
   "id": "e3c2b8ae-74ee-4296-9bb6-e992ebc0e33d",
   "metadata": {},
   "outputs": [],
   "source": [
    "myCursor = mydb.cursor()"
   ]
  },
  {
   "cell_type": "code",
   "execution_count": 6,
   "id": "521736b1-fbe6-4d0b-8ae5-6a2326624339",
   "metadata": {},
   "outputs": [],
   "source": [
    "myCursor.execute(\"create database finalDb\")"
   ]
  },
  {
   "cell_type": "code",
   "execution_count": 7,
   "id": "dbbeffd6-cf17-483d-b7ed-119f26a24a54",
   "metadata": {},
   "outputs": [
    {
     "name": "stdin",
     "output_type": "stream",
     "text": [
      "Enter new db name:  thirdDb\n"
     ]
    },
    {
     "name": "stdout",
     "output_type": "stream",
     "text": [
      "None\n"
     ]
    }
   ],
   "source": [
    "#TODO: get the name of the database that you want to create from the user\n",
    "newDbNameInp = input(\"Enter new db name: \")\n",
    "\n",
    "a = myCursor.execute(\"create database \" + newDbNameInp )\n",
    "\n",
    "print(a)"
   ]
  },
  {
   "cell_type": "code",
   "execution_count": 8,
   "id": "79a176fc-2e88-4689-89b1-a19b0fab0487",
   "metadata": {},
   "outputs": [],
   "source": [
    "myCursor.execute(\"show databases\")"
   ]
  },
  {
   "cell_type": "code",
   "execution_count": 10,
   "id": "aa844ac1-9245-4ee4-9de3-afa9627b2ed9",
   "metadata": {},
   "outputs": [
    {
     "name": "stdout",
     "output_type": "stream",
     "text": [
      "('finalDb',)\n",
      "('first_database',)\n",
      "('information_schema',)\n",
      "('mysql',)\n",
      "('northwind',)\n",
      "('performance_schema',)\n",
      "('sys',)\n",
      "('thirdDb',)\n"
     ]
    }
   ],
   "source": [
    "for x in myCursor:\n",
    "    print(x)"
   ]
  },
  {
   "cell_type": "code",
   "execution_count": 17,
   "id": "546a3531-024c-4c4c-8aa9-b242793d84f4",
   "metadata": {},
   "outputs": [],
   "source": [
    "myCursor.execute(\"create table customers ( id INT AUTO_INCREMENT PRIMARY KEY, name varchar(200), address varchar(200) ) \")"
   ]
  },
  {
   "cell_type": "code",
   "execution_count": 19,
   "id": "eb3ae14d-5c2f-46c5-b575-ffd2bbfd982e",
   "metadata": {},
   "outputs": [
    {
     "name": "stdout",
     "output_type": "stream",
     "text": [
      "('customers',)\n"
     ]
    }
   ],
   "source": [
    "myCursor.execute(\"show tables\")\n",
    "\n",
    "for t in myCursor:\n",
    "    print( t )\n"
   ]
  },
  {
   "cell_type": "code",
   "execution_count": 23,
   "id": "31209c1e-cb0d-466f-ab6b-0ed3f99cf206",
   "metadata": {},
   "outputs": [
    {
     "name": "stdout",
     "output_type": "stream",
     "text": [
      "1\n"
     ]
    }
   ],
   "source": [
    "myCursor.execute( \"insert into customers (name,address) values (%s, %s)\" , (\"Jane\" ,\"B54\")   )\n",
    "\n",
    "mydb.commit()\n",
    "\n",
    "print( myCursor.rowcount ) \n"
   ]
  },
  {
   "cell_type": "code",
   "execution_count": 25,
   "id": "7dc6f27c-8c64-485f-9252-39ce93097b0c",
   "metadata": {},
   "outputs": [
    {
     "name": "stdin",
     "output_type": "stream",
     "text": [
      "Enter Name:  Sarah\n",
      "Enter Address:  T40\n"
     ]
    }
   ],
   "source": [
    "#TODO: get input from user for name and address\n",
    "inpName = input(\"Enter Name: \")\n",
    "inpAddress  = input(\"Enter Address: \")\n",
    "\n",
    "myCursor.execute(\" insert into customers (name, address) values (%s,%s)\" , ( inpName , inpAddress ) )\n",
    "\n",
    "mydb.commit()\n"
   ]
  },
  {
   "cell_type": "code",
   "execution_count": null,
   "id": "6f843ae0-8418-45b2-b514-838832732e64",
   "metadata": {},
   "outputs": [],
   "source": []
  }
 ],
 "metadata": {
  "kernelspec": {
   "display_name": "Python 3 (ipykernel)",
   "language": "python",
   "name": "python3"
  },
  "language_info": {
   "codemirror_mode": {
    "name": "ipython",
    "version": 3
   },
   "file_extension": ".py",
   "mimetype": "text/x-python",
   "name": "python",
   "nbconvert_exporter": "python",
   "pygments_lexer": "ipython3",
   "version": "3.8.10"
  }
 },
 "nbformat": 4,
 "nbformat_minor": 5
}
