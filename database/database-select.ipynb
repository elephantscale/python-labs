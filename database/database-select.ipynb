{
 "cells": [
  {
   "cell_type": "code",
   "execution_count": null,
   "id": "ae4a220b-a6d7-4761-aca5-feec268a6455",
   "metadata": {},
   "outputs": [],
   "source": [
    "import mysql.connector"
   ]
  },
  {
   "cell_type": "code",
   "execution_count": null,
   "id": "f1e194d9-d8ab-49ac-9df2-6180aaaac00b",
   "metadata": {},
   "outputs": [],
   "source": [
    "mydb = mysql.connector.connect(\n",
    " host=\"localhost\",\n",
    "    user=\"root\",\n",
    "    password=\"passNew@@123\",\n",
    "    database=\"finalDb\"\n",
    ")\n",
    "\n",
    "print (mydb)\n",
    "myCursor = mydb.cursor()"
   ]
  },
  {
   "cell_type": "code",
   "execution_count": null,
   "id": "6287daa1-f5c4-4937-b274-3c967bdaa00b",
   "metadata": {},
   "outputs": [],
   "source": [
    "\n",
    "\n",
    "\n",
    "myCursor.execute(\"select * from customers where id >= %s\" , [ 3 ] )\n",
    "\n",
    "myResult = myCursor.fetchall()\n",
    "\n",
    "for x in myResult:\n",
    "    print(x)\n",
    "    print(\"====\")\n",
    "\n",
    "\n"
   ]
  },
  {
   "cell_type": "code",
   "execution_count": null,
   "id": "c7d92c0a-c51a-45cd-a8dd-8d85bc706658",
   "metadata": {},
   "outputs": [],
   "source": [
    "#TODO: write a programe, that asks the user what they want to do\n",
    "# 1 => insert into customers table\n",
    "# 2=> read the data from customers table ( with condtion, or print all )"
   ]
  }
 ],
 "metadata": {
  "kernelspec": {
   "display_name": "Python 3 (ipykernel)",
   "language": "python",
   "name": "python3"
  },
  "language_info": {
   "codemirror_mode": {
    "name": "ipython",
    "version": 3
   },
   "file_extension": ".py",
   "mimetype": "text/x-python",
   "name": "python",
   "nbconvert_exporter": "python",
   "pygments_lexer": "ipython3",
   "version": "3.11.7"
  }
 },
 "nbformat": 4,
 "nbformat_minor": 5
}
