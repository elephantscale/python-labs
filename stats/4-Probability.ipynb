{
 "cells": [
  {
   "cell_type": "code",
   "execution_count": null,
   "metadata": {
    "colab": {},
    "colab_type": "code",
    "id": "tFQ4bdA53nVF"
   },
   "outputs": [],
   "source": [
    "%matplotlib inline"
   ]
  },
  {
   "cell_type": "markdown",
   "metadata": {
    "colab_type": "text",
    "id": "jsmjmvb8Dlu9"
   },
   "source": [
    "# Example 1:\n",
    "\n",
    "---\n",
    "\n"
   ]
  },
  {
   "cell_type": "code",
   "execution_count": null,
   "metadata": {
    "colab": {
     "base_uri": "https://localhost:8080/",
     "height": 34
    },
    "colab_type": "code",
    "id": "z7E8ErzD3nVQ",
    "outputId": "87112d28-3763-4197-a925-6664a9d86dc0"
   },
   "outputs": [],
   "source": [
    "# Sample Space\n",
    "cards = 52\n",
    "\n",
    "# Outcomes\n",
    "aces = 4\n",
    "\n",
    "\n",
    "# Divide possible outcomes by the sample set\n",
    "ace_probability = aces / cards\n",
    "\n",
    "# Print probability rounded to two decimal places\n",
    "print(\"Probability of getting aces:\", round(ace_probability, 2))"
   ]
  },
  {
   "cell_type": "markdown",
   "metadata": {
    "colab_type": "text",
    "id": "2BZQV1rQDqIK"
   },
   "source": [
    "# Example2:\n",
    "\n",
    "---\n",
    "\n"
   ]
  },
  {
   "cell_type": "code",
   "execution_count": null,
   "metadata": {
    "colab": {
     "base_uri": "https://localhost:8080/",
     "height": 34
    },
    "colab_type": "code",
    "id": "V2Z-QhdeDvu2",
    "outputId": "33a30ded-8c60-4f30-ef41-08e8c3392078"
   },
   "outputs": [],
   "source": [
    "# Sample Space\n",
    "cards = 52\n",
    "\n",
    "# Determine the probability of drawing a heart\n",
    "hearts = 13\n",
    "hearts_probability = hearts/cards\n",
    "\n",
    "print(\"Probability of getting hearts:\", round(hearts_probability,2))"
   ]
  },
  {
   "cell_type": "markdown",
   "metadata": {
    "colab_type": "text",
    "id": "Qjcd3tP4D50s"
   },
   "source": [
    "# Example3:\n",
    "\n",
    "---\n",
    "\n"
   ]
  },
  {
   "cell_type": "code",
   "execution_count": null,
   "metadata": {
    "colab": {
     "base_uri": "https://localhost:8080/",
     "height": 68
    },
    "colab_type": "code",
    "id": "T28jnb3VEMC_",
    "outputId": "5dd53c8c-7a08-4ee3-a999-4f57e66cc650"
   },
   "outputs": [],
   "source": [
    "# Create function that returns probability percent rounded to one decimal place\n",
    "def event_probability(event_outcomes, sample_space):\n",
    "    probability = (event_outcomes / sample_space) * 100\n",
    "    return round(probability, 1)\n",
    "\n",
    "# Sample Space\n",
    "cards = 52\n",
    "\n",
    "# Determine the probability of drawing a heart\n",
    "hearts = 13\n",
    "heart_probability = event_probability(hearts, cards)\n",
    "\n",
    "# Determine the probability of drawing a face card\n",
    "face_cards = 12\n",
    "face_card_probability = event_probability(face_cards, cards)\n",
    "\n",
    "# Determine the probability of drawing the queen of hearts\n",
    "ace_of_hearts = 1\n",
    "ace_of_hearts_probability = event_probability(ace_of_hearts, cards)\n",
    "\n",
    "# Print each probability\n",
    "print(str(heart_probability) + '%')\n",
    "print(str(face_card_probability) + '%')\n",
    "print(str(ace_of_hearts_probability) + '%')"
   ]
  },
  {
   "cell_type": "markdown",
   "metadata": {
    "colab_type": "text",
    "id": "G6Yh-scfEXBn"
   },
   "source": [
    "# Example4: \n",
    "\n",
    "---\n",
    "\n"
   ]
  },
  {
   "cell_type": "code",
   "execution_count": null,
   "metadata": {
    "colab": {
     "base_uri": "https://localhost:8080/",
     "height": 34
    },
    "colab_type": "code",
    "id": "alpEsvVlEfdI",
    "outputId": "66f66c7c-e237-47fe-ac4f-dd5c503a2f12"
   },
   "outputs": [],
   "source": [
    "# Sample Space\n",
    "cards = 52\n",
    "hole_cards = 2\n",
    "turn_community_cards = 4\n",
    "cards = cards - (hole_cards + turn_community_cards)\n",
    "\n",
    "# Outcomes\n",
    "diamonds = 13\n",
    "diamonds_drawn = 4\n",
    "# In poker, cards that complete a draw are known as \"outs\"\n",
    "outs = diamonds - diamonds_drawn\n",
    "\n",
    "#Determine river flush probability\n",
    "river_flush_probability = event_probability(outs, cards)\n",
    "print(river_flush_probability)"
   ]
  },
  {
   "cell_type": "code",
   "execution_count": null,
   "metadata": {
    "colab": {},
    "colab_type": "code",
    "id": "9ieQ1lRWE_Qe"
   },
   "outputs": [],
   "source": [
    "import pandas as pd"
   ]
  },
  {
   "cell_type": "code",
   "execution_count": null,
   "metadata": {
    "colab": {
     "base_uri": "https://localhost:8080/",
     "height": 136
    },
    "colab_type": "code",
    "id": "q4s2h12j3nVo",
    "outputId": "1440c065-aeb8-4fbe-d1a0-1cfb49c0d875"
   },
   "outputs": [],
   "source": [
    "#Conditional Probability\n",
    "df = pd.DataFrame({'company': ['ford', 'chevy', 'ford', 'ford', 'ford', 'toyota'],\n",
    "                     'model': ['mustang', 'camaro', 'fiesta', 'focus', 'taurus', 'camry'],\n",
    "                     'rating': ['A', 'B', 'C', 'A', 'B', 'B'],\n",
    "                     'type': ['coupe', 'coupe', 'sedan', 'sedan', 'sedan', 'sedan']})\n",
    "print(df)"
   ]
  },
  {
   "cell_type": "code",
   "execution_count": null,
   "metadata": {
    "colab": {
     "base_uri": "https://localhost:8080/",
     "height": 102
    },
    "colab_type": "code",
    "id": "JWjOZ4S73nVy",
    "outputId": "1af1ee6b-18e4-4bd5-dd00-07bb5e7c7878"
   },
   "outputs": [],
   "source": [
    "df.groupby('rating').count()['model'] / len(df)"
   ]
  },
  {
   "cell_type": "code",
   "execution_count": null,
   "metadata": {
    "colab": {
     "base_uri": "https://localhost:8080/",
     "height": 136
    },
    "colab_type": "code",
    "id": "TVDhrdi23nV8",
    "outputId": "51c7da88-ce8f-4234-816c-10a266f791f5"
   },
   "outputs": [],
   "source": [
    "(df.groupby(['rating', 'type']).count() / df.groupby('rating').count())['model']"
   ]
  },
  {
   "cell_type": "code",
   "execution_count": null,
   "metadata": {
    "colab": {
     "base_uri": "https://localhost:8080/",
     "height": 1000
    },
    "colab_type": "code",
    "id": "963JjEk93nWF",
    "outputId": "251d7268-4488-4e25-92f3-d84f584929fb"
   },
   "outputs": [],
   "source": [
    "#Joint Probability\n",
    "import numpy as np\n",
    "numBins = 10  # number of bins in each dimension\n",
    "data = np.random.randn(100000, 3)  # generate 100000 3-d random data points\n",
    "jointProbs, edges = np.histogramdd(data, bins=numBins)\n",
    "jointProbs /= jointProbs.sum()\n",
    "print(jointProbs)"
   ]
  },
  {
   "cell_type": "code",
   "execution_count": null,
   "metadata": {
    "colab": {
     "base_uri": "https://localhost:8080/",
     "height": 136
    },
    "colab_type": "code",
    "id": "a3i62jBMIKr0",
    "outputId": "bc9aaa9e-1345-4f7c-bd5b-9a0ab2b21de9"
   },
   "outputs": [],
   "source": [
    "import scipy.stats\n",
    "print(scipy.stats.norm(0, 1))\n",
    "\n",
    "print(scipy.stats.norm(0, 1).pdf(0))\n",
    "print(scipy.stats.norm(0, 1).cdf(0))\n",
    "print(scipy.stats.norm(100, 12))\n",
    "print(scipy.stats.norm(100, 12).pdf(98))\n",
    "print(scipy.stats.norm(100, 12).cdf(98))\n",
    "print(scipy.stats.norm(100, 12).cdf(100))"
   ]
  }
 ],
 "metadata": {
  "colab": {
   "name": "Probability.ipynb",
   "provenance": [],
   "version": "0.3.2"
  },
  "kernelspec": {
   "display_name": "Python 3 (ipykernel)",
   "language": "python",
   "name": "python3"
  },
  "language_info": {
   "codemirror_mode": {
    "name": "ipython",
    "version": 3
   },
   "file_extension": ".py",
   "mimetype": "text/x-python",
   "name": "python",
   "nbconvert_exporter": "python",
   "pygments_lexer": "ipython3",
   "version": "3.11.7"
  }
 },
 "nbformat": 4,
 "nbformat_minor": 4
}
