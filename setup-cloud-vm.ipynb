{
 "cells": [
  {
   "cell_type": "markdown",
   "metadata": {},
   "source": [
    "# Setting up Machine Learning Lab environment\n",
    "\n",
    "## Tips\n",
    "Copy-Paste Shortcuts on Jupyter terminal\n",
    "- On Windows try : `Shift + Insert`\n",
    "- On Windows try : `Shift + Right Click`\n",
    "\n",
    "## Step 1: Access your VM\n",
    "Instructor will provide details.  \n",
    "You can access the VM by IP address using a browser.\n",
    "\n",
    "## Step 2: Access Jupyter Labs page\n",
    "Click on Jupyter 'Access'.  \n",
    "You should see a running instance of Jupyter Lab\n",
    "\n",
    "## Step 3: Open `Terminal` in Jupyter Lab\n",
    "This would give you access to shell access to the VM\n",
    "\n",
    "\n",
    "## Step 4: Get the labs\n",
    "\n",
    "**Option 1** \n",
    "\n",
    "- Instructor will provide the lab bundle\n",
    "- Upload the lab bundle into __`~/dev`__ directory\n",
    "- Run the following command\n",
    "\n",
    "```bash\n",
    "$   cd ~/dev\n",
    "$   unzip python-labs.zip\n",
    "```\n",
    "\n",
    "**Option 2**\n",
    "\n",
    "- Instructor will provide lab download url\n",
    "- Run the following commands in terminal\n",
    "\n",
    "```bash\n",
    "$   cd ~/dev\n",
    "$   wget <download url>\n",
    "$   unzip python-labs.zip\n",
    "```\n",
    "\n",
    "Now you should have the labs in __`~/dev/python-labs`__\n",
    "\n",
    "## Step 5: Get the data\n",
    "\n",
    "```bash\n",
    "$  cd /data;  git pull\n",
    "\n",
    "# link the directory in labs\n",
    "$  cd ~/dev/python-labs ;  ln -s /data ./data\n",
    "```\n",
    "\n",
    "## Step 6: Open `Readme*ipynb` file\n",
    "\n",
    "- In Jupyter Labs, navigate to `python-labs`  directory\n",
    "- and open `README*ipynb`\n",
    "\n"
   ]
  },
  {
   "cell_type": "code",
   "execution_count": null,
   "metadata": {
    "collapsed": true,
    "jupyter": {
     "outputs_hidden": true
    }
   },
   "outputs": [],
   "source": [
    " "
   ]
  }
 ],
 "metadata": {
  "kernelspec": {
   "display_name": "Python 3",
   "language": "python",
   "name": "python3"
  },
  "language_info": {
   "codemirror_mode": {
    "name": "ipython",
    "version": 3
   },
   "file_extension": ".py",
   "mimetype": "text/x-python",
   "name": "python",
   "nbconvert_exporter": "python",
   "pygments_lexer": "ipython3",
   "version": "3.8.2"
  }
 },
 "nbformat": 4,
 "nbformat_minor": 4
}
