{
 "cells": [
  {
   "cell_type": "markdown",
   "metadata": {},
   "source": [
    "# NumPy and SciPy\n",
    "\n",
    "NumPy and SciPy are the twin pillars of doing data science in Python.  Early on in Python's history, it became clear that Python's list data structures weren't ideal for doing heavy-duty number crunching on vectors and matrices. \n",
    "\n",
    "So, numpy was born to try to solve the problem, and introduce an array-type data structure into Python.\n",
    "\n",
    "Let's first create an array:"
   ]
  },
  {
   "cell_type": "code",
   "execution_count": null,
   "metadata": {},
   "outputs": [],
   "source": [
    "import numpy as np\n",
    "np.__version__"
   ]
  },
  {
   "cell_type": "code",
   "execution_count": null,
   "metadata": {},
   "outputs": [],
   "source": [
    "a = np.array([1,2,3])\n",
    "a"
   ]
  },
  {
   "cell_type": "markdown",
   "metadata": {},
   "source": [
    "Notice that we have to pass in a list of numbers rather than \n",
    "\n",
    "```python\n",
    "np.array(1,2,3)  ## ERROR: won't work\n",
    "\n",
    "np.array([1,2,3]) ## Correct\n",
    "```"
   ]
  },
  {
   "cell_type": "markdown",
   "metadata": {},
   "source": [
    "Let's do a sequence of numbers with arange"
   ]
  },
  {
   "cell_type": "code",
   "execution_count": null,
   "metadata": {},
   "outputs": [],
   "source": [
    "a = np.arange(10)\n",
    "a"
   ]
  },
  {
   "cell_type": "code",
   "execution_count": null,
   "metadata": {},
   "outputs": [],
   "source": [
    "# Try to multiply sequence by a scalar\n",
    "a * np.pi"
   ]
  },
  {
   "cell_type": "markdown",
   "metadata": {},
   "source": [
    "We can make multi-dimensional arrays from single dimensions with shape."
   ]
  },
  {
   "cell_type": "code",
   "execution_count": null,
   "metadata": {},
   "outputs": [],
   "source": [
    "a = np.array([1,2,3,4,5,6])\n",
    "a"
   ]
  },
  {
   "cell_type": "code",
   "execution_count": null,
   "metadata": {},
   "outputs": [],
   "source": [
    "b = a.reshape(2,3)\n",
    "b"
   ]
  },
  {
   "cell_type": "markdown",
   "metadata": {},
   "source": [
    "We can access elements of the 2-D array using array subscription operators.\n",
    "\n",
    "Remember we do **this**:\n",
    "\n",
    "```python\n",
    "b[1,2]\n",
    "```\n",
    "\n",
    "not **this**\n",
    "\n",
    "```python\n",
    "b[1][2] # BAD!\n",
    "```"
   ]
  },
  {
   "cell_type": "code",
   "execution_count": null,
   "metadata": {},
   "outputs": [],
   "source": [
    "## TODO: Slice the first (zeroeth) row of 2-D array b.\n",
    "\n",
    "#b [row, col]\n"
   ]
  },
  {
   "cell_type": "code",
   "execution_count": null,
   "metadata": {},
   "outputs": [],
   "source": [
    "## TODO: Slice the first (zeroeth) column of 2-D array b\n",
    "\n",
    "# b [row, col]"
   ]
  },
  {
   "cell_type": "code",
   "execution_count": null,
   "metadata": {},
   "outputs": [],
   "source": [
    "## Access the element at column number 1 (counting from zero), \n",
    "# and row number 0:\n",
    "\n"
   ]
  },
  {
   "cell_type": "markdown",
   "metadata": {},
   "source": [
    "### Matrices\n",
    "\n",
    "We can make matrices"
   ]
  },
  {
   "cell_type": "code",
   "execution_count": null,
   "metadata": {},
   "outputs": [],
   "source": [
    "np.matrix('1 2; 3 4')"
   ]
  },
  {
   "cell_type": "markdown",
   "metadata": {},
   "source": [
    "Matrix multiplication requires the use of matrices."
   ]
  },
  {
   "cell_type": "code",
   "execution_count": null,
   "metadata": {},
   "outputs": [],
   "source": [
    "## Matrix Multiply\n",
    "\n",
    "a1 = np.matrix('1 2; 3 4')\n",
    "a2 = np.matrix('3 4; 5 7')\n",
    "\n",
    "print (a1)\n",
    "print (a2)\n",
    "\n",
    "print (a1 * a2)\n",
    "\n",
    "# 1 * 3 + 2 * 5  = 13"
   ]
  },
  {
   "cell_type": "code",
   "execution_count": null,
   "metadata": {},
   "outputs": [],
   "source": [
    "# Converting an array to a matrix\n",
    "mat_a = np.mat(a1)\n",
    "mat_a"
   ]
  },
  {
   "cell_type": "markdown",
   "metadata": {},
   "source": [
    "### Sparse Matrices\n",
    "\n",
    "Sometimes we may have sparse data and want to store a sparse matrix"
   ]
  },
  {
   "cell_type": "code",
   "execution_count": null,
   "metadata": {},
   "outputs": [],
   "source": [
    "import numpy, scipy.sparse\n",
    "n = 100000\n",
    "x = (numpy.random.rand(n) * 2).astype(int).astype(float) # 50% sparse vector\n",
    "x_csr = scipy.sparse.csr_matrix(x)\n",
    "x_dok = scipy.sparse.dok_matrix(x.reshape(x_csr.shape))\n",
    "\n",
    "x_dok\n"
   ]
  },
  {
   "cell_type": "markdown",
   "metadata": {},
   "source": [
    "### Loading from CSV file\n",
    "\n",
    "We can load from a CSV file"
   ]
  },
  {
   "cell_type": "code",
   "execution_count": null,
   "metadata": {},
   "outputs": [],
   "source": [
    "import csv\n",
    "with open('../data/array/array.csv', 'r') as csvfile:\n",
    "    csvreader = csv.reader(csvfile)\n",
    "    data = []\n",
    "    for row in csvreader:\n",
    "        row = [float(x) for x in row]\n",
    "        data.append(row)\n",
    "\n",
    "data\n",
    "\n"
   ]
  },
  {
   "cell_type": "markdown",
   "metadata": {},
   "source": [
    "### Solving a matrix "
   ]
  },
  {
   "cell_type": "code",
   "execution_count": null,
   "metadata": {},
   "outputs": [],
   "source": [
    "import numpy as np\n",
    "import scipy as sp\n",
    "a = np.array([[3,2,0],[1,-1,0],[0,5,1]])\n",
    "b = np.array([2,4,-1])\n",
    "x = np.linalg.solve(a,b)\n",
    "x\n",
    "\n"
   ]
  },
  {
   "cell_type": "code",
   "execution_count": null,
   "metadata": {},
   "outputs": [],
   "source": [
    "#Checking the answer\n",
    "\n",
    "np.dot(a, x) == b\n"
   ]
  },
  {
   "cell_type": "code",
   "execution_count": null,
   "metadata": {},
   "outputs": [],
   "source": []
  }
 ],
 "metadata": {
  "kernelspec": {
   "display_name": "Python 3",
   "language": "python",
   "name": "python3"
  },
  "language_info": {
   "codemirror_mode": {
    "name": "ipython",
    "version": 3
   },
   "file_extension": ".py",
   "mimetype": "text/x-python",
   "name": "python",
   "nbconvert_exporter": "python",
   "pygments_lexer": "ipython3",
   "version": "3.8.2"
  }
 },
 "nbformat": 4,
 "nbformat_minor": 4
}
