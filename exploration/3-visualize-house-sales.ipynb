{
 "cells": [
  {
   "cell_type": "markdown",
   "metadata": {},
   "source": [
    "# Visualize House Sales Data\n",
    "\n",
    "Let's use pandas and matplotlib to help us to visualize sales data."
   ]
  },
  {
   "cell_type": "code",
   "execution_count": null,
   "metadata": {},
   "outputs": [],
   "source": [
    "%matplotlib inline\n",
    "\n",
    "import numpy as np\n",
    "import pandas as pd\n",
    "import matplotlib.pyplot as plt\n",
    "import seaborn as sns \n",
    "import os"
   ]
  },
  {
   "cell_type": "markdown",
   "metadata": {},
   "source": [
    "## Read and Display data"
   ]
  },
  {
   "cell_type": "code",
   "execution_count": null,
   "metadata": {},
   "outputs": [],
   "source": [
    "data_location = \"../data/house-prices/house-sales-simplified.csv\"\n",
    "if not os.path.exists (data_location):\n",
    "    data_location = 'https://elephantscale-public.s3.amazonaws.com/data/house-prices/house-sales-simplified.csv'\n",
    "print('data_location:', data_location)\n",
    "    \n",
    "house_prices = pd.read_csv(data_location)\n",
    "house_prices"
   ]
  },
  {
   "cell_type": "markdown",
   "metadata": {},
   "source": [
    "## 'Summary' of data"
   ]
  },
  {
   "cell_type": "code",
   "execution_count": null,
   "metadata": {},
   "outputs": [],
   "source": [
    "## TODO : use describe to get an idea of the data\n",
    "## Hint : 'describe' \n",
    "house_prices.???()"
   ]
  },
  {
   "cell_type": "markdown",
   "metadata": {},
   "source": [
    "## Pair Plot\n",
    "\n",
    "Try this plot.\n",
    "\n",
    "Can you make sense of it? :-) "
   ]
  },
  {
   "cell_type": "code",
   "execution_count": null,
   "metadata": {},
   "outputs": [],
   "source": [
    "sns.pairplot(house_prices)\n",
    "plt.show()"
   ]
  },
  {
   "cell_type": "markdown",
   "metadata": {},
   "source": [
    "## Histogram / Frequency Plot\n",
    "Create a frequency table & histogram plot based on number of bedrooms"
   ]
  },
  {
   "cell_type": "code",
   "execution_count": null,
   "metadata": {},
   "outputs": [],
   "source": [
    "## calculate a frequency count\n",
    "## Hint : group by 'Bedrooms'\n",
    "freq_count = house_prices.groupby(\"???\").size()\n",
    "freq_count"
   ]
  },
  {
   "cell_type": "code",
   "execution_count": null,
   "metadata": {},
   "outputs": [],
   "source": [
    "## TODO : countplot\n",
    "## Hint : data=house_prices,   x='Bedrooms'\n",
    "\n",
    "sns.countplot(data=???, x=\"???\")"
   ]
  },
  {
   "cell_type": "markdown",
   "metadata": {},
   "source": [
    "## Create a BoxPlot on sale prices \n",
    "Sale prices per property type  (Single Family, Townhouse)"
   ]
  },
  {
   "cell_type": "code",
   "execution_count": null,
   "metadata": {},
   "outputs": [],
   "source": [
    "## TODO : data=price_by_property_type\n",
    "## Hint : data=house_prices. X='PropertyType', y='SalePrice'\n",
    "sns.boxplot(x=\"???\", y=\"???\",  data=???)"
   ]
  },
  {
   "cell_type": "markdown",
   "metadata": {},
   "source": [
    "## Bonus Lab : Improving our plot\n",
    "Our plot data is pretty 'squished'  Let's see if we can improve it.  \n",
    "Some of the outliers (like the 33 bedroom house is messing up the display).  \n",
    "Let's remove the outliers."
   ]
  },
  {
   "cell_type": "code",
   "execution_count": null,
   "metadata": {},
   "outputs": [],
   "source": [
    "## We are going to remove 10% off the data from the bottom and top\n",
    "\n",
    "## first calculate 10%  and 90% prices\n",
    "## Hint : supply the right parameters for quantile (10% --> 0.1,  90% --> 0.9)\n",
    "ten_ninety = house_prices.SalePrice.quantile([.1, .9])\n",
    "\n",
    "## extract 10% and 90% into variables\n",
    "ten_percent_price = int(house_prices.SalePrice.quantile(.1))\n",
    "ninety_percent_price = int(house_prices.SalePrice.quantile(.9))\n",
    "print(\"10% price=\", ten_percent_price,  \", 90% price=\", ninety_percent_price)"
   ]
  },
  {
   "cell_type": "code",
   "execution_count": null,
   "metadata": {},
   "outputs": [],
   "source": [
    "## filter out below 10% and above 90%\n",
    "print(\"total sales \", len(house_prices.index))\n",
    "\n",
    "## filter prices above 10%  (hint : ten_percent_price)\n",
    "above_ten = house_prices[house_prices[\"SalePrice\"] >= ten_percent_price]\n",
    "print(\"above 10% \" , len(above_ten.index))\n",
    "\n",
    "## filter prices below 90%  (hint : <= ninety_percent_price)\n",
    "below_ninety  = house_prices.filter(house_prices[\"SalePrice\"] <= ninety_percent_price)\n",
    "print(\"below 90% \", len(below_ninety.index))\n",
    "## filter above 10% and below 90% in one query\n",
    "above_ten_below_ninety = house_prices.loc[(house_prices['SalePrice'] >= ten_percent_price) & (house_prices['SalePrice'] <=  ninety_percent_price)]\n",
    "print(\"between 10% and 90% = {:,}\".format(above_ten_below_ninety.shape[0]))"
   ]
  },
  {
   "cell_type": "code",
   "execution_count": null,
   "metadata": {},
   "outputs": [],
   "source": [
    "## TODO: do the same plot again\n",
    "## Hint : data=above_ten_below_ninety\n",
    "sns.boxplot(x=\"PropertyType\", y=\"SalePrice\",  data=???)"
   ]
  },
  {
   "cell_type": "markdown",
   "metadata": {},
   "source": [
    "## Any other plots?\n",
    "Look at [MatplotLib Examples](https://matplotlib.org/gallery.html).\n",
    "If any of them inspire you try to create a graph like that!\n",
    "And do show it off to the class  :-)"
   ]
  }
 ],
 "metadata": {
  "kernelspec": {
   "display_name": "Python 3",
   "language": "python",
   "name": "python3"
  },
  "language_info": {
   "codemirror_mode": {
    "name": "ipython",
    "version": 3
   },
   "file_extension": ".py",
   "mimetype": "text/x-python",
   "name": "python",
   "nbconvert_exporter": "python",
   "pygments_lexer": "ipython3",
   "version": "3.8.2"
  }
 },
 "nbformat": 4,
 "nbformat_minor": 4
}
