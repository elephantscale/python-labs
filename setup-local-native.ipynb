{
 "cells": [
  {
   "cell_type": "markdown",
   "metadata": {},
   "source": [
    "# Setup your local laptop for the labs\n",
    "\n",
    "This guide will walk you through how to setup a local setup to run the labs.\n",
    "\n",
    "\n",
    "## What you need\n",
    "- Anaconda Python version 3.x\n",
    "- A few more python packages\n",
    "- our data files\n",
    "\n",
    "## Install Process\n",
    "\n",
    "### 1: Anaconda Python\n",
    "Download and install Anaconda Python version 3.x from [here](https://www.anaconda.com/download/).\n",
    "\n",
    "And install the following packages\n",
    "- jupyterlab\n",
    "- scikit-learn\n",
    "\n",
    "```bash\n",
    "   $  conda install jupyterlab   scikit-learn\n",
    "```\n",
    "\n",
    "\n",
    "\n",
    "### 2: Download labs \n",
    "- Instructor will give you the lab bundle\n",
    "- Unzip them anywhere\n",
    "\n",
    "\n",
    "### 3: Download data files\n",
    "- download our data files from [here](https://s3.amazonaws.com/elephantscale-public/data/data.zip)\n",
    "- unzip this zip bundle\n",
    "- move the `data` directory in labs directory\n",
    "- so the data directory will be in __`ml-labs-python/data`__\n",
    "\n",
    "\n",
    "### 4: Run the labs\n",
    "```bash\n",
    "$   cd ml-labs-python\n",
    "$   jupyter lab\n",
    "```\n",
    "\n",
    "### 5: Open and run `testing123.ipynb` file \n",
    "This file is under `0-testing` directory.   \n",
    "This file will check your setup.  \n",
    "If there are no errors here, then you are good to go\n",
    "\n",
    "### 6: Open `README*ipynb`\n",
    "And practice!\n"
   ]
  },
  {
   "cell_type": "code",
   "execution_count": null,
   "metadata": {},
   "outputs": [],
   "source": []
  }
 ],
 "metadata": {
  "kernelspec": {
   "display_name": "Python 3",
   "language": "python",
   "name": "python3"
  },
  "language_info": {
   "codemirror_mode": {
    "name": "ipython",
    "version": 3
   },
   "file_extension": ".py",
   "mimetype": "text/x-python",
   "name": "python",
   "nbconvert_exporter": "python",
   "pygments_lexer": "ipython3",
   "version": "3.8.2"
  }
 },
 "nbformat": 4,
 "nbformat_minor": 4
}
